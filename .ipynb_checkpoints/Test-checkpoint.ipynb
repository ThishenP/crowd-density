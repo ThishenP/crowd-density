{
 "cells": [
  {
   "cell_type": "code",
   "execution_count": 1,
   "id": "c1f91800",
   "metadata": {},
   "outputs": [
    {
     "data": {
      "text/plain": [
       "device(type='cuda', index=0)"
      ]
     },
     "execution_count": 1,
     "metadata": {},
     "output_type": "execute_result"
    }
   ],
   "source": [
    "import torch\n",
    "import os\n",
    "from dataset import CDEDataset\n",
    "from torchvision import transforms\n",
    "from torch.utils.data import DataLoader\n",
    "import time\n",
    "import numpy as np\n",
    "import matplotlib.pyplot as plt\n",
    "\n",
    "if torch.cuda.is_available(): \n",
    "    device = torch.device(\"cuda:0\")\n",
    "else:\n",
    "    device = torch.device(\"cpu\")\n",
    "device"
   ]
  },
  {
   "cell_type": "code",
   "execution_count": 2,
   "id": "3f22f075",
   "metadata": {},
   "outputs": [],
   "source": [
    "modeltest = torch.load(\"sweeps/2e-05-8-adam.pt\")"
   ]
  },
  {
   "cell_type": "code",
   "execution_count": 3,
   "id": "daa48b62",
   "metadata": {},
   "outputs": [],
   "source": [
    "root_ims = '../CDE_Data/train/images'\n",
    "root_ann = '../CDE_Data/train/density_gt'\n",
    "im_list = os.listdir(root_ims)\n",
    "\n",
    "train = CDEDataset(im_list,root_ims,root_ann, transform = transforms.Compose([\n",
    "                transforms.ToTensor(),\n",
    "                transforms.Normalize([0.485, 0.456, 0.406], [0.229, 0.224, 0.225])\n",
    "            ]))\n",
    "\n",
    "root_ims = '../CDE_Data/val/images'\n",
    "root_ann = '../CDE_Data/val/density_gt'\n",
    "im_list = os.listdir(root_ims)\n",
    "\n",
    "val = CDEDataset(im_list,root_ims,root_ann, transform = transforms.Compose([\n",
    "                transforms.ToTensor(),\n",
    "                transforms.Normalize([0.485, 0.456, 0.406], [0.229, 0.224, 0.225])\n",
    "            ]), train = False)\n",
    "\n",
    "\n"
   ]
  },
  {
   "cell_type": "code",
   "execution_count": 4,
   "id": "81ac6ca9",
   "metadata": {},
   "outputs": [],
   "source": [
    "root_ims = '../CDE_Data/ShanghaiTech/ShanghaiTech/part_A/test_data/images'\n",
    "root_ann = '../CDE_Data/ShanghaiTech/ShanghaiTech/part_A/test_data/density_gt'\n",
    "im_list = os.listdir(root_ims)\n",
    "test_SH_A = CDEDataset(im_list,root_ims,root_ann, transform  = transforms.Compose([\n",
    "                transforms.ToTensor(),\n",
    "                transforms.Normalize([0.485, 0.456, 0.406], [0.229, 0.224, 0.225])\n",
    "            ]), train =False)\n",
    "\n",
    "root_ims = '../CDE_Data/ShanghaiTech/ShanghaiTech/part_B/test_data/images'\n",
    "root_ann = '../CDE_Data/ShanghaiTech/ShanghaiTech/part_B/test_data/density_gt'\n",
    "im_list = os.listdir(root_ims)\n",
    "test_SH_B = CDEDataset(im_list,root_ims,root_ann, transform  = transforms.Compose([\n",
    "                transforms.ToTensor(),\n",
    "                transforms.Normalize([0.485, 0.456, 0.406], [0.229, 0.224, 0.225])\n",
    "            ]), train =False)\n",
    "\n",
    "root_ims = '../CDE_Data/UCF_CC_50/images'\n",
    "root_ann = '../CDE_Data/UCF_CC_50/density_gt'\n",
    "im_list = os.listdir(root_ims)\n",
    "test_UCF = CDEDataset(im_list,root_ims,root_ann, transform  = transforms.Compose([\n",
    "                transforms.ToTensor(),\n",
    "                transforms.Normalize([0.485, 0.456, 0.406], [0.229, 0.224, 0.225])\n",
    "            ]), train =False)"
   ]
  },
  {
   "cell_type": "code",
   "execution_count": 5,
   "id": "4dc040cd",
   "metadata": {},
   "outputs": [],
   "source": [
    "test_SH_A_dataloader = DataLoader(test_SH_A, batch_size=1, shuffle=True)\n",
    "test_SH_B_dataloader = DataLoader(test_SH_B, batch_size=1, shuffle=True)\n",
    "test_UCF_dataloader = DataLoader(test_UCF, batch_size=1, shuffle=True)\n",
    "\n",
    "test_dataloaders = [test_SH_A_dataloader, test_SH_B_dataloader, test_UCF_dataloader]"
   ]
  },
  {
   "cell_type": "code",
   "execution_count": 6,
   "id": "8bddccdc",
   "metadata": {},
   "outputs": [],
   "source": [
    "def evaluate(model,dataloaders):\n",
    "\n",
    "    maes = []\n",
    "    mses = []\n",
    "    for loader in dataloaders:\n",
    "        losses =[]\n",
    "\n",
    "        model.eval()\n",
    "        with torch.no_grad():    \n",
    "            for i, data in enumerate(loader, 0):\n",
    "                # evaluate the model on the test set\n",
    "                inputs, labels, true_count = data\n",
    "\n",
    "\n",
    "                inputs = inputs.to(device)\n",
    "                labels = labels.to(device)\n",
    "                outputs = model(inputs)\n",
    "\n",
    "                pred_count = np.sum(outputs[0][0].cpu().detach().numpy())\n",
    "                true_count = true_count.cpu().detach().numpy()\n",
    "\n",
    "                losses.append(pred_count - true_count)\n",
    "\n",
    "                print(i, end = \" \")\n",
    "        mae = np.mean(np.abs(losses))\n",
    "        mse = np.sqrt(np.mean(np.square(losses)))\n",
    "        maes.append(mae)\n",
    "        mses.append(mse)\n",
    "    return maes, mses\n",
    "        "
   ]
  },
  {
   "cell_type": "code",
   "execution_count": 7,
   "id": "090b964c",
   "metadata": {},
   "outputs": [
    {
     "name": "stdout",
     "output_type": "stream",
     "text": [
      "0 1 2 3 4 5 6 7 8 9 10 11 12 13 14 15 16 17 18 19 20 21 22 23 24 25 26 27 28 29 30 31 32 33 34 35 36 37 38 39 40 41 42 43 44 45 46 47 48 49 50 51 52 53 54 55 56 57 58 59 60 61 62 63 64 65 66 67 68 69 70 71 72 73 74 75 76 77 78 79 80 81 82 83 84 85 86 87 88 89 90 91 92 93 94 95 96 97 98 99 100 101 102 103 104 105 106 107 108 109 110 111 112 113 114 115 116 117 118 119 120 121 122 123 124 125 126 127 128 129 130 131 132 133 134 135 136 137 138 139 140 141 142 143 144 145 146 147 148 149 150 151 152 153 154 155 156 157 158 159 160 161 162 163 164 165 166 167 168 169 170 171 172 173 174 175 176 177 178 179 180 181 [array([-124.52587891]), array([19.54302979]), array([113.20446777]), array([-13.41094971]), array([-35.7779541]), array([-162.55932617]), array([-335.94226074]), array([-216.97888184]), array([-25.0067749]), array([-41.50094604]), array([-13.88128662]), array([90.60595703]), array([-36.4206543]), array([51.942276]), array([18.73429871]), array([-226.46795654]), array([-7.08135986]), array([-23.86633301]), array([-26.08666992]), array([-5.13142395]), array([167.01396179]), array([-96.046875]), array([-115.96716309]), array([-107.00463867]), array([-112.08694458]), array([-44.02770996]), array([-67.85775757]), array([-167.45239258]), array([-77.79684448]), array([120.76574707]), array([-642.38494873]), array([111.55560303]), array([-63.68637085]), array([65.14788818]), array([68.64324951]), array([-36.22209167]), array([-8.60002518]), array([52.16925049]), array([1.8500824]), array([129.95448303]), array([14.59378052]), array([-16.6522522]), array([-810.74243164]), array([-14.03198242]), array([-176.48370361]), array([-31.44119263]), array([45.33920288]), array([-8.5664978]), array([-619.2611084]), array([-120.01144409]), array([-13.38287354]), array([-37.09868622]), array([-456.55133057]), array([-10.49777222]), array([66.11035156]), array([59.18017578]), array([32.44528198]), array([39.56506348]), array([-7.60955811]), array([-201.06698608]), array([76.0793457]), array([-142.04986572]), array([32.83499146]), array([-108.05856323]), array([-107.61732483]), array([-20.23599243]), array([6.50637817]), array([-29.13665771]), array([57.49514771]), array([-34.47029114]), array([-93.69915771]), array([-2.41110229]), array([-14.09823608]), array([20.55020142]), array([-117.04193115]), array([89.14849854]), array([-41.25598145]), array([39.70132446]), array([-55.11999512]), array([120.58966064]), array([90.82397461]), array([495.17907715]), array([53.14016724]), array([-40.81103516]), array([-200.93283081]), array([-28.30979919]), array([34.73126221]), array([-47.60557556]), array([-39.23457336]), array([-148.62521362]), array([-25.61819458]), array([36.59751892]), array([-445.37542725]), array([-145.76672363]), array([4.11514282]), array([-106.06175232]), array([-25.98181152]), array([36.86686707]), array([11.02548218]), array([-71.77224731]), array([10.01950836]), array([53.56207275]), array([-66.7925415]), array([-94.57122803]), array([-9.84313965]), array([-150.91207886]), array([-408.78549194]), array([-6.95422363]), array([-0.23123169]), array([21.85812378]), array([88.83056641]), array([73.73223877]), array([-586.17449951]), array([8.09558105]), array([31.14044189]), array([70.00942993]), array([1.92372131]), array([-121.7460022]), array([261.88696289]), array([47.59179688]), array([-62.44445801]), array([-41.91455841]), array([86.11004639]), array([6.14068604]), array([-244.64733887]), array([247.18762207]), array([57.3097229]), array([-15.94161987]), array([-9.14770508]), array([13.14569092]), array([88.42947388]), array([101.93029785]), array([-279.27819824]), array([-17.55810547]), array([-25.58132935]), array([-74.42570496]), array([-74.71893311]), array([-38.91583252]), array([-36.47323608]), array([-40.715271]), array([-124.24542236]), array([107.52056885]), array([-25.04467773]), array([-55.49667358]), array([-1.30289459]), array([-184.5670166]), array([7.3405304]), array([230.01843262]), array([-44.50001526]), array([-118.95367432]), array([150.55404663]), array([-23.36746216]), array([51.68362427]), array([120.80258179]), array([81.55212402]), array([128.05010986]), array([74.33917236]), array([46.14584351]), array([21.06021118]), array([47.10165405]), array([-189.4364624]), array([4.87731934]), array([-480.76141357]), array([-62.2256012]), array([27.77485657]), array([5.69512177]), array([495.37072754]), array([-44.45986938]), array([350.96411133]), array([25.39955139]), array([7.71359253]), array([-24.99404907]), array([15.10451508]), array([51.72795105]), array([-28.13557434]), array([-31.58450317]), array([-17.74240875]), array([61.97680664]), array([-96.53237915]), array([46.18026733]), array([-16.72698975]), array([-28.08480835])]\n",
      "0 1 2 3 4 5 6 7 8 9 10 11 12 13 14 15 16 17 18 19 20 21 22 23 24 25 26 27 28 29 30 31 32 33 34 35 36 37 38 39 40 41 42 43 44 45 46 47 48 49 50 51 52 53 54 55 56 57 "
     ]
    },
    {
     "name": "stderr",
     "output_type": "stream",
     "text": [
      "ERROR:root:Internal Python error in the inspect module.\n",
      "Below is the traceback from this internal error.\n",
      "\n"
     ]
    },
    {
     "name": "stdout",
     "output_type": "stream",
     "text": [
      "Traceback (most recent call last):\n",
      "  File \"C:\\Users\\Thishen\\anaconda3\\lib\\site-packages\\IPython\\core\\interactiveshell.py\", line 3437, in run_code\n",
      "    exec(code_obj, self.user_global_ns, self.user_ns)\n",
      "  File \"<ipython-input-7-4bcfdb079239>\", line 1, in <module>\n",
      "    maes, mses = evaluate(modeltest, test_dataloaders)\n",
      "  File \"<ipython-input-6-635b0aae4b8b>\", line 19, in evaluate\n",
      "    pred_count = np.sum(outputs[0][0].cpu().detach().numpy())\n",
      "KeyboardInterrupt\n",
      "\n",
      "During handling of the above exception, another exception occurred:\n",
      "\n",
      "Traceback (most recent call last):\n",
      "  File \"C:\\Users\\Thishen\\anaconda3\\lib\\site-packages\\IPython\\core\\interactiveshell.py\", line 2061, in showtraceback\n",
      "    stb = value._render_traceback_()\n",
      "AttributeError: 'KeyboardInterrupt' object has no attribute '_render_traceback_'\n",
      "\n",
      "During handling of the above exception, another exception occurred:\n",
      "\n",
      "Traceback (most recent call last):\n",
      "  File \"C:\\Users\\Thishen\\anaconda3\\lib\\site-packages\\IPython\\core\\ultratb.py\", line 1101, in get_records\n",
      "    return _fixed_getinnerframes(etb, number_of_lines_of_context, tb_offset)\n",
      "  File \"C:\\Users\\Thishen\\anaconda3\\lib\\site-packages\\IPython\\core\\ultratb.py\", line 248, in wrapped\n",
      "    return f(*args, **kwargs)\n",
      "  File \"C:\\Users\\Thishen\\anaconda3\\lib\\site-packages\\IPython\\core\\ultratb.py\", line 281, in _fixed_getinnerframes\n",
      "    records = fix_frame_records_filenames(inspect.getinnerframes(etb, context))\n",
      "  File \"C:\\Users\\Thishen\\anaconda3\\lib\\inspect.py\", line 1515, in getinnerframes\n",
      "    frameinfo = (tb.tb_frame,) + getframeinfo(tb, context)\n",
      "  File \"C:\\Users\\Thishen\\anaconda3\\lib\\inspect.py\", line 1473, in getframeinfo\n",
      "    filename = getsourcefile(frame) or getfile(frame)\n",
      "  File \"C:\\Users\\Thishen\\anaconda3\\lib\\inspect.py\", line 708, in getsourcefile\n",
      "    if getattr(getmodule(object, filename), '__loader__', None) is not None:\n",
      "  File \"C:\\Users\\Thishen\\anaconda3\\lib\\inspect.py\", line 754, in getmodule\n",
      "    os.path.realpath(f)] = module.__name__\n",
      "  File \"C:\\Users\\Thishen\\anaconda3\\lib\\ntpath.py\", line 647, in realpath\n",
      "    path = _getfinalpathname(path)\n",
      "KeyboardInterrupt\n"
     ]
    },
    {
     "ename": "TypeError",
     "evalue": "object of type 'NoneType' has no len()",
     "output_type": "error",
     "traceback": [
      "\u001b[1;31m---------------------------------------------------------------------------\u001b[0m",
      "\u001b[1;31mKeyboardInterrupt\u001b[0m                         Traceback (most recent call last)",
      "    \u001b[1;31m[... skipping hidden 1 frame]\u001b[0m\n",
      "\u001b[1;32m<ipython-input-7-4bcfdb079239>\u001b[0m in \u001b[0;36m<module>\u001b[1;34m\u001b[0m\n\u001b[1;32m----> 1\u001b[1;33m \u001b[0mmaes\u001b[0m\u001b[1;33m,\u001b[0m \u001b[0mmses\u001b[0m \u001b[1;33m=\u001b[0m \u001b[0mevaluate\u001b[0m\u001b[1;33m(\u001b[0m\u001b[0mmodeltest\u001b[0m\u001b[1;33m,\u001b[0m \u001b[0mtest_dataloaders\u001b[0m\u001b[1;33m)\u001b[0m\u001b[1;33m\u001b[0m\u001b[1;33m\u001b[0m\u001b[0m\n\u001b[0m",
      "\u001b[1;32m<ipython-input-6-635b0aae4b8b>\u001b[0m in \u001b[0;36mevaluate\u001b[1;34m(model, dataloaders)\u001b[0m\n\u001b[0;32m     18\u001b[0m \u001b[1;33m\u001b[0m\u001b[0m\n\u001b[1;32m---> 19\u001b[1;33m                 \u001b[0mpred_count\u001b[0m \u001b[1;33m=\u001b[0m \u001b[0mnp\u001b[0m\u001b[1;33m.\u001b[0m\u001b[0msum\u001b[0m\u001b[1;33m(\u001b[0m\u001b[0moutputs\u001b[0m\u001b[1;33m[\u001b[0m\u001b[1;36m0\u001b[0m\u001b[1;33m]\u001b[0m\u001b[1;33m[\u001b[0m\u001b[1;36m0\u001b[0m\u001b[1;33m]\u001b[0m\u001b[1;33m.\u001b[0m\u001b[0mcpu\u001b[0m\u001b[1;33m(\u001b[0m\u001b[1;33m)\u001b[0m\u001b[1;33m.\u001b[0m\u001b[0mdetach\u001b[0m\u001b[1;33m(\u001b[0m\u001b[1;33m)\u001b[0m\u001b[1;33m.\u001b[0m\u001b[0mnumpy\u001b[0m\u001b[1;33m(\u001b[0m\u001b[1;33m)\u001b[0m\u001b[1;33m)\u001b[0m\u001b[1;33m\u001b[0m\u001b[1;33m\u001b[0m\u001b[0m\n\u001b[0m\u001b[0;32m     20\u001b[0m                 \u001b[0mtrue_count\u001b[0m \u001b[1;33m=\u001b[0m \u001b[0mtrue_count\u001b[0m\u001b[1;33m.\u001b[0m\u001b[0mcpu\u001b[0m\u001b[1;33m(\u001b[0m\u001b[1;33m)\u001b[0m\u001b[1;33m.\u001b[0m\u001b[0mdetach\u001b[0m\u001b[1;33m(\u001b[0m\u001b[1;33m)\u001b[0m\u001b[1;33m.\u001b[0m\u001b[0mnumpy\u001b[0m\u001b[1;33m(\u001b[0m\u001b[1;33m)\u001b[0m\u001b[1;33m\u001b[0m\u001b[1;33m\u001b[0m\u001b[0m\n",
      "\u001b[1;31mKeyboardInterrupt\u001b[0m: ",
      "\nDuring handling of the above exception, another exception occurred:\n",
      "\u001b[1;31mAttributeError\u001b[0m                            Traceback (most recent call last)",
      "\u001b[1;32m~\\anaconda3\\lib\\site-packages\\IPython\\core\\interactiveshell.py\u001b[0m in \u001b[0;36mshowtraceback\u001b[1;34m(self, exc_tuple, filename, tb_offset, exception_only, running_compiled_code)\u001b[0m\n\u001b[0;32m   2060\u001b[0m                         \u001b[1;31m# in the engines. This should return a list of strings.\u001b[0m\u001b[1;33m\u001b[0m\u001b[1;33m\u001b[0m\u001b[1;33m\u001b[0m\u001b[0m\n\u001b[1;32m-> 2061\u001b[1;33m                         \u001b[0mstb\u001b[0m \u001b[1;33m=\u001b[0m \u001b[0mvalue\u001b[0m\u001b[1;33m.\u001b[0m\u001b[0m_render_traceback_\u001b[0m\u001b[1;33m(\u001b[0m\u001b[1;33m)\u001b[0m\u001b[1;33m\u001b[0m\u001b[1;33m\u001b[0m\u001b[0m\n\u001b[0m\u001b[0;32m   2062\u001b[0m                     \u001b[1;32mexcept\u001b[0m \u001b[0mException\u001b[0m\u001b[1;33m:\u001b[0m\u001b[1;33m\u001b[0m\u001b[1;33m\u001b[0m\u001b[0m\n",
      "\u001b[1;31mAttributeError\u001b[0m: 'KeyboardInterrupt' object has no attribute '_render_traceback_'",
      "\nDuring handling of the above exception, another exception occurred:\n",
      "\u001b[1;31mTypeError\u001b[0m                                 Traceback (most recent call last)",
      "    \u001b[1;31m[... skipping hidden 1 frame]\u001b[0m\n",
      "\u001b[1;32m~\\anaconda3\\lib\\site-packages\\IPython\\core\\interactiveshell.py\u001b[0m in \u001b[0;36mshowtraceback\u001b[1;34m(self, exc_tuple, filename, tb_offset, exception_only, running_compiled_code)\u001b[0m\n\u001b[0;32m   2061\u001b[0m                         \u001b[0mstb\u001b[0m \u001b[1;33m=\u001b[0m \u001b[0mvalue\u001b[0m\u001b[1;33m.\u001b[0m\u001b[0m_render_traceback_\u001b[0m\u001b[1;33m(\u001b[0m\u001b[1;33m)\u001b[0m\u001b[1;33m\u001b[0m\u001b[1;33m\u001b[0m\u001b[0m\n\u001b[0;32m   2062\u001b[0m                     \u001b[1;32mexcept\u001b[0m \u001b[0mException\u001b[0m\u001b[1;33m:\u001b[0m\u001b[1;33m\u001b[0m\u001b[1;33m\u001b[0m\u001b[0m\n\u001b[1;32m-> 2063\u001b[1;33m                         stb = self.InteractiveTB.structured_traceback(etype,\n\u001b[0m\u001b[0;32m   2064\u001b[0m                                             value, tb, tb_offset=tb_offset)\n\u001b[0;32m   2065\u001b[0m \u001b[1;33m\u001b[0m\u001b[0m\n",
      "\u001b[1;32m~\\anaconda3\\lib\\site-packages\\IPython\\core\\ultratb.py\u001b[0m in \u001b[0;36mstructured_traceback\u001b[1;34m(self, etype, value, tb, tb_offset, number_of_lines_of_context)\u001b[0m\n\u001b[0;32m   1365\u001b[0m         \u001b[1;32melse\u001b[0m\u001b[1;33m:\u001b[0m\u001b[1;33m\u001b[0m\u001b[1;33m\u001b[0m\u001b[0m\n\u001b[0;32m   1366\u001b[0m             \u001b[0mself\u001b[0m\u001b[1;33m.\u001b[0m\u001b[0mtb\u001b[0m \u001b[1;33m=\u001b[0m \u001b[0mtb\u001b[0m\u001b[1;33m\u001b[0m\u001b[1;33m\u001b[0m\u001b[0m\n\u001b[1;32m-> 1367\u001b[1;33m         return FormattedTB.structured_traceback(\n\u001b[0m\u001b[0;32m   1368\u001b[0m             self, etype, value, tb, tb_offset, number_of_lines_of_context)\n\u001b[0;32m   1369\u001b[0m \u001b[1;33m\u001b[0m\u001b[0m\n",
      "\u001b[1;32m~\\anaconda3\\lib\\site-packages\\IPython\\core\\ultratb.py\u001b[0m in \u001b[0;36mstructured_traceback\u001b[1;34m(self, etype, value, tb, tb_offset, number_of_lines_of_context)\u001b[0m\n\u001b[0;32m   1265\u001b[0m         \u001b[1;32mif\u001b[0m \u001b[0mmode\u001b[0m \u001b[1;32min\u001b[0m \u001b[0mself\u001b[0m\u001b[1;33m.\u001b[0m\u001b[0mverbose_modes\u001b[0m\u001b[1;33m:\u001b[0m\u001b[1;33m\u001b[0m\u001b[1;33m\u001b[0m\u001b[0m\n\u001b[0;32m   1266\u001b[0m             \u001b[1;31m# Verbose modes need a full traceback\u001b[0m\u001b[1;33m\u001b[0m\u001b[1;33m\u001b[0m\u001b[1;33m\u001b[0m\u001b[0m\n\u001b[1;32m-> 1267\u001b[1;33m             return VerboseTB.structured_traceback(\n\u001b[0m\u001b[0;32m   1268\u001b[0m                 \u001b[0mself\u001b[0m\u001b[1;33m,\u001b[0m \u001b[0metype\u001b[0m\u001b[1;33m,\u001b[0m \u001b[0mvalue\u001b[0m\u001b[1;33m,\u001b[0m \u001b[0mtb\u001b[0m\u001b[1;33m,\u001b[0m \u001b[0mtb_offset\u001b[0m\u001b[1;33m,\u001b[0m \u001b[0mnumber_of_lines_of_context\u001b[0m\u001b[1;33m\u001b[0m\u001b[1;33m\u001b[0m\u001b[0m\n\u001b[0;32m   1269\u001b[0m             )\n",
      "\u001b[1;32m~\\anaconda3\\lib\\site-packages\\IPython\\core\\ultratb.py\u001b[0m in \u001b[0;36mstructured_traceback\u001b[1;34m(self, etype, evalue, etb, tb_offset, number_of_lines_of_context)\u001b[0m\n\u001b[0;32m   1122\u001b[0m         \u001b[1;34m\"\"\"Return a nice text document describing the traceback.\"\"\"\u001b[0m\u001b[1;33m\u001b[0m\u001b[1;33m\u001b[0m\u001b[0m\n\u001b[0;32m   1123\u001b[0m \u001b[1;33m\u001b[0m\u001b[0m\n\u001b[1;32m-> 1124\u001b[1;33m         formatted_exception = self.format_exception_as_a_whole(etype, evalue, etb, number_of_lines_of_context,\n\u001b[0m\u001b[0;32m   1125\u001b[0m                                                                tb_offset)\n\u001b[0;32m   1126\u001b[0m \u001b[1;33m\u001b[0m\u001b[0m\n",
      "\u001b[1;32m~\\anaconda3\\lib\\site-packages\\IPython\\core\\ultratb.py\u001b[0m in \u001b[0;36mformat_exception_as_a_whole\u001b[1;34m(self, etype, evalue, etb, number_of_lines_of_context, tb_offset)\u001b[0m\n\u001b[0;32m   1080\u001b[0m \u001b[1;33m\u001b[0m\u001b[0m\n\u001b[0;32m   1081\u001b[0m \u001b[1;33m\u001b[0m\u001b[0m\n\u001b[1;32m-> 1082\u001b[1;33m         \u001b[0mlast_unique\u001b[0m\u001b[1;33m,\u001b[0m \u001b[0mrecursion_repeat\u001b[0m \u001b[1;33m=\u001b[0m \u001b[0mfind_recursion\u001b[0m\u001b[1;33m(\u001b[0m\u001b[0morig_etype\u001b[0m\u001b[1;33m,\u001b[0m \u001b[0mevalue\u001b[0m\u001b[1;33m,\u001b[0m \u001b[0mrecords\u001b[0m\u001b[1;33m)\u001b[0m\u001b[1;33m\u001b[0m\u001b[1;33m\u001b[0m\u001b[0m\n\u001b[0m\u001b[0;32m   1083\u001b[0m \u001b[1;33m\u001b[0m\u001b[0m\n\u001b[0;32m   1084\u001b[0m         \u001b[0mframes\u001b[0m \u001b[1;33m=\u001b[0m \u001b[0mself\u001b[0m\u001b[1;33m.\u001b[0m\u001b[0mformat_records\u001b[0m\u001b[1;33m(\u001b[0m\u001b[0mrecords\u001b[0m\u001b[1;33m,\u001b[0m \u001b[0mlast_unique\u001b[0m\u001b[1;33m,\u001b[0m \u001b[0mrecursion_repeat\u001b[0m\u001b[1;33m)\u001b[0m\u001b[1;33m\u001b[0m\u001b[1;33m\u001b[0m\u001b[0m\n",
      "\u001b[1;32m~\\anaconda3\\lib\\site-packages\\IPython\\core\\ultratb.py\u001b[0m in \u001b[0;36mfind_recursion\u001b[1;34m(etype, value, records)\u001b[0m\n\u001b[0;32m    380\u001b[0m     \u001b[1;31m# first frame (from in to out) that looks different.\u001b[0m\u001b[1;33m\u001b[0m\u001b[1;33m\u001b[0m\u001b[1;33m\u001b[0m\u001b[0m\n\u001b[0;32m    381\u001b[0m     \u001b[1;32mif\u001b[0m \u001b[1;32mnot\u001b[0m \u001b[0mis_recursion_error\u001b[0m\u001b[1;33m(\u001b[0m\u001b[0metype\u001b[0m\u001b[1;33m,\u001b[0m \u001b[0mvalue\u001b[0m\u001b[1;33m,\u001b[0m \u001b[0mrecords\u001b[0m\u001b[1;33m)\u001b[0m\u001b[1;33m:\u001b[0m\u001b[1;33m\u001b[0m\u001b[1;33m\u001b[0m\u001b[0m\n\u001b[1;32m--> 382\u001b[1;33m         \u001b[1;32mreturn\u001b[0m \u001b[0mlen\u001b[0m\u001b[1;33m(\u001b[0m\u001b[0mrecords\u001b[0m\u001b[1;33m)\u001b[0m\u001b[1;33m,\u001b[0m \u001b[1;36m0\u001b[0m\u001b[1;33m\u001b[0m\u001b[1;33m\u001b[0m\u001b[0m\n\u001b[0m\u001b[0;32m    383\u001b[0m \u001b[1;33m\u001b[0m\u001b[0m\n\u001b[0;32m    384\u001b[0m     \u001b[1;31m# Select filename, lineno, func_name to track frames with\u001b[0m\u001b[1;33m\u001b[0m\u001b[1;33m\u001b[0m\u001b[1;33m\u001b[0m\u001b[0m\n",
      "\u001b[1;31mTypeError\u001b[0m: object of type 'NoneType' has no len()"
     ]
    }
   ],
   "source": [
    "maes, mses = evaluate(modeltest, test_dataloaders)"
   ]
  },
  {
   "cell_type": "code",
   "execution_count": null,
   "id": "cb61dd2c",
   "metadata": {},
   "outputs": [],
   "source": [
    "ex = test_UCF[5]\n",
    "im = ex[0].unsqueeze(0).to(device)\n",
    "im.shape\n",
    "\n",
    "start = time.time()\n",
    "a = modeltest(im)\n",
    "\n",
    "print(\"inference time:\", time.time() - start)\n",
    "print(\"actual: \",ex[2])\n",
    "print(\"predicted: \",np.sum(a[0][0].cpu().detach().numpy()))\n",
    "\n",
    "fig, axs = plt.subplots(1, 3, figsize=(15,20))\n",
    "axs[0].imshow(ex[0][0].detach().numpy())\n",
    "axs[1].imshow(ex[1][0].detach().numpy())\n",
    "axs[2].imshow(a[0][0].cpu().detach().numpy())\n",
    "plt.show()"
   ]
  },
  {
   "cell_type": "code",
   "execution_count": null,
   "id": "d1fb810a",
   "metadata": {},
   "outputs": [],
   "source": []
  }
 ],
 "metadata": {
  "kernelspec": {
   "display_name": "Python 3",
   "language": "python",
   "name": "python3"
  },
  "language_info": {
   "codemirror_mode": {
    "name": "ipython",
    "version": 3
   },
   "file_extension": ".py",
   "mimetype": "text/x-python",
   "name": "python",
   "nbconvert_exporter": "python",
   "pygments_lexer": "ipython3",
   "version": "3.8.8"
  }
 },
 "nbformat": 4,
 "nbformat_minor": 5
}
