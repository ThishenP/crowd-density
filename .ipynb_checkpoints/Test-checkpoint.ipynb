{
 "cells": [
  {
   "cell_type": "code",
   "execution_count": 1,
   "id": "c1f91800",
   "metadata": {
    "scrolled": true
   },
   "outputs": [
    {
     "data": {
      "text/plain": [
       "device(type='cuda', index=0)"
      ]
     },
     "execution_count": 1,
     "metadata": {},
     "output_type": "execute_result"
    }
   ],
   "source": [
    "import torch\n",
    "import os\n",
    "from dataset import CDEDataset\n",
    "from torchvision import transforms\n",
    "from torch.utils.data import DataLoader\n",
    "import time\n",
    "import numpy as np\n",
    "import matplotlib.pyplot as plt\n",
    "\n",
    "if torch.cuda.is_available(): \n",
    "    device = torch.device(\"cuda:0\")\n",
    "else:\n",
    "    device = torch.device(\"cpu\")\n",
    "device"
   ]
  },
  {
   "cell_type": "code",
   "execution_count": 3,
   "id": "d4a36e2f",
   "metadata": {},
   "outputs": [],
   "source": [
    "no_dilation_models = []\n",
    "for i in range(10):\n",
    "    no_dilation_models.append(torch.load(f\"Models/dilationNone/conv_{i+1}_800.pt\"))\n",
    "    \n",
    "dilation_2_models = []\n",
    "for i in range(10):\n",
    "    dilation_2_models.append(torch.load(f\"Models/dilation2/dil2_{i+1}_800.pt\"))\n",
    "    \n",
    "aspp_models = []\n",
    "for i in range(10):\n",
    "    aspp_models.append(torch.load(f\"Models/aspp/aspp_{i+1}_800.pt\"))"
   ]
  },
  {
   "cell_type": "code",
   "execution_count": 4,
   "id": "81ac6ca9",
   "metadata": {},
   "outputs": [],
   "source": [
    "root_ims = '../CDE_Data/ShanghaiTech/ShanghaiTech/part_A/test_data/images'\n",
    "root_ann = '../CDE_Data/ShanghaiTech/ShanghaiTech/part_A/test_data/density_gt'\n",
    "im_list = os.listdir(root_ims)\n",
    "test_SH_A = CDEDataset(im_list,root_ims,root_ann, transform  = transforms.Compose([\n",
    "                transforms.ToTensor(),\n",
    "                transforms.Normalize([0.485, 0.456, 0.406], [0.229, 0.224, 0.225])\n",
    "            ]), train =False)\n",
    "\n",
    "root_ims = '../CDE_Data/ShanghaiTech/ShanghaiTech/part_B/test_data/images'\n",
    "root_ann = '../CDE_Data/ShanghaiTech/ShanghaiTech/part_B/test_data/density_gt'\n",
    "im_list = os.listdir(root_ims)\n",
    "test_SH_B = CDEDataset(im_list,root_ims,root_ann, transform  = transforms.Compose([\n",
    "                transforms.ToTensor(),\n",
    "                transforms.Normalize([0.485, 0.456, 0.406], [0.229, 0.224, 0.225])\n",
    "            ]), train =False)\n",
    "\n",
    "root_ims = '../CDE_Data/UCF_CC_50/images'\n",
    "root_ann = '../CDE_Data/UCF_CC_50/density_gt'\n",
    "im_list = os.listdir(root_ims)\n",
    "test_UCF = CDEDataset(im_list,root_ims,root_ann, transform  = transforms.Compose([\n",
    "                transforms.ToTensor(),\n",
    "                transforms.Normalize([0.485, 0.456, 0.406], [0.229, 0.224, 0.225])\n",
    "            ]), train =False)"
   ]
  },
  {
   "cell_type": "code",
   "execution_count": 5,
   "id": "4dc040cd",
   "metadata": {},
   "outputs": [],
   "source": [
    "test_SH_A_dataloader = DataLoader(test_SH_A, batch_size=1, shuffle=True)\n",
    "test_SH_B_dataloader = DataLoader(test_SH_B, batch_size=1, shuffle=True)\n",
    "test_UCF_dataloader = DataLoader(test_UCF, batch_size=1, shuffle=True)\n",
    "\n",
    "test_dataloaders = [test_SH_A_dataloader, test_SH_B_dataloader, test_UCF_dataloader]"
   ]
  },
  {
   "cell_type": "code",
   "execution_count": 7,
   "id": "d2b7f96c",
   "metadata": {},
   "outputs": [],
   "source": [
    "counts = []\n",
    "for a in test_UCF:\n",
    "    counts.append(a[2])\n",
    "counts = np.array(counts)"
   ]
  },
  {
   "cell_type": "code",
   "execution_count": 8,
   "id": "2b067da9",
   "metadata": {},
   "outputs": [
    {
     "data": {
      "text/plain": [
       "4633"
      ]
     },
     "execution_count": 8,
     "metadata": {},
     "output_type": "execute_result"
    }
   ],
   "source": [
    "counts.max()"
   ]
  },
  {
   "cell_type": "code",
   "execution_count": 5,
   "id": "d875a887",
   "metadata": {},
   "outputs": [],
   "source": [
    "def evaluate(model,dataloaders):\n",
    "\n",
    "    maes = []\n",
    "    mses = []\n",
    "    for loader in dataloaders:\n",
    "        losses =[]\n",
    "\n",
    "        model.eval()\n",
    "        with torch.no_grad():    \n",
    "            for i, data in enumerate(loader, 0):\n",
    "                # evaluate the model on the test set\n",
    "                inputs, labels, true_count = data\n",
    "\n",
    "\n",
    "                inputs = inputs.to(device)\n",
    "                labels = labels.to(device)\n",
    "                outputs = model(inputs)\n",
    "\n",
    "                pred_count = np.sum(outputs[0][0].cpu().detach().numpy())\n",
    "                true_count = true_count.cpu().detach().numpy()\n",
    "\n",
    "                losses.append(pred_count - true_count)\n",
    "\n",
    "                #print(i, end = \" \")\n",
    "        mae = np.mean(np.abs(losses))\n",
    "        mse = np.sqrt(np.mean(np.square(losses)))\n",
    "        maes.append(mae)\n",
    "        mses.append(mse)\n",
    "        #print('.', end = \" \")\n",
    "    print('.', end = \" \")\n",
    "    return maes, mses\n",
    "        "
   ]
  },
  {
   "cell_type": "code",
   "execution_count": 6,
   "id": "ff16a32a",
   "metadata": {
    "scrolled": false
   },
   "outputs": [
    {
     "name": "stdout",
     "output_type": "stream",
     "text": [
      ". . . . . . . . . . . . . . . . . . . . . . . . . . . . . . . . . . "
     ]
    }
   ],
   "source": [
    "no_dil_maes = []\n",
    "no_dil_mses = []\n",
    "\n",
    "for model in no_dilation_models:\n",
    "    maes, mses = evaluate(model, test_dataloaders)\n",
    "    no_dil_maes.append(maes)\n",
    "    no_dil_mses.append(mses)\n",
    "    \n",
    "no_dil_maes = np.array(no_dil_maes)\n",
    "no_dil_mses = np.array(no_dil_maes)\n",
    "    \n",
    "dil_2_maes = []\n",
    "dil_2_mses = []\n",
    "\n",
    "for model in dilation_2_models:\n",
    "    maes, mses = evaluate(model, test_dataloaders)\n",
    "    dil_2_maes.append(maes)\n",
    "    dil_2_mses.append(mses)\n",
    "\n",
    "dil_2_maes = np.array(dil_2_maes)\n",
    "dil_2_mses = np.array(dil_2_mses)\n",
    "    \n",
    "aspp_maes = []\n",
    "aspp_mses = []\n",
    "\n",
    "for model in aspp_models:\n",
    "    maes, mses = evaluate(model, test_dataloaders)\n",
    "    aspp_maes.append(maes)\n",
    "    aspp_mses.append(mses)\n",
    "    \n",
    "aspp_maes = np.array(aspp_maes)\n",
    "aspp_mses = np.array(aspp_mses)   "
   ]
  },
  {
   "cell_type": "code",
   "execution_count": null,
   "id": "2a49495f",
   "metadata": {},
   "outputs": [],
   "source": [
    "import csv\n",
    "\n",
    "# open the file in the write mode\n",
    "with open('path/to/csv_file', 'w') as f:\n",
    "    # create the csv writer\n",
    "    writer = csv.writer(f)\n",
    "\n",
    "    # write a row to the csv file\n",
    "    writer.writerow(row)"
   ]
  },
  {
   "cell_type": "code",
   "execution_count": 13,
   "id": "41f713df",
   "metadata": {},
   "outputs": [
    {
     "data": {
      "text/plain": [
       "array([106.67824095,  45.29564267, 508.52970059])"
      ]
     },
     "execution_count": 13,
     "metadata": {},
     "output_type": "execute_result"
    }
   ],
   "source": [
    "np.mean(no_dil_maes, axis = 0)"
   ]
  },
  {
   "cell_type": "code",
   "execution_count": 19,
   "id": "46e5cee6",
   "metadata": {},
   "outputs": [
    {
     "data": {
      "text/plain": [
       "array([ 89.52933715,  35.77369534, 418.04720121])"
      ]
     },
     "execution_count": 19,
     "metadata": {},
     "output_type": "execute_result"
    }
   ],
   "source": [
    "np.mean(dil_2_maes[:9], axis = 0)"
   ]
  },
  {
   "cell_type": "code",
   "execution_count": 15,
   "id": "9fe3dac4",
   "metadata": {},
   "outputs": [
    {
     "data": {
      "text/plain": [
       "array([ 81.86495679,  25.40276446, 426.47964265])"
      ]
     },
     "execution_count": 15,
     "metadata": {},
     "output_type": "execute_result"
    }
   ],
   "source": [
    "np.mean(aspp_maes, axis = 0)"
   ]
  },
  {
   "cell_type": "code",
   "execution_count": 16,
   "id": "8f60686b",
   "metadata": {},
   "outputs": [
    {
     "data": {
      "text/plain": [
       "array([ 89.39784958,  20.39981904, 426.25853104])"
      ]
     },
     "execution_count": 16,
     "metadata": {},
     "output_type": "execute_result"
    }
   ],
   "source": [
    "np.min(no_dil_maes, axis = 0)"
   ]
  },
  {
   "cell_type": "code",
   "execution_count": 18,
   "id": "bcaefd23",
   "metadata": {
    "scrolled": false
   },
   "outputs": [
    {
     "ename": "NameError",
     "evalue": "name 'dil' is not defined",
     "output_type": "error",
     "traceback": [
      "\u001b[1;31m---------------------------------------------------------------------------\u001b[0m",
      "\u001b[1;31mNameError\u001b[0m                                 Traceback (most recent call last)",
      "\u001b[1;32m<ipython-input-18-a4a8fedeeab8>\u001b[0m in \u001b[0;36m<module>\u001b[1;34m\u001b[0m\n\u001b[1;32m----> 1\u001b[1;33m \u001b[0mdil_A\u001b[0m \u001b[1;33m=\u001b[0m \u001b[0mdil\u001b[0m\u001b[1;33m[\u001b[0m\u001b[1;33m:\u001b[0m\u001b[1;33m,\u001b[0m\u001b[1;36m0\u001b[0m\u001b[1;33m]\u001b[0m\u001b[1;33m\u001b[0m\u001b[1;33m\u001b[0m\u001b[0m\n\u001b[0m\u001b[0;32m      2\u001b[0m \u001b[0masp_A\u001b[0m \u001b[1;33m=\u001b[0m \u001b[0masp\u001b[0m\u001b[1;33m[\u001b[0m\u001b[1;33m:\u001b[0m\u001b[1;33m,\u001b[0m\u001b[1;36m0\u001b[0m\u001b[1;33m]\u001b[0m\u001b[1;33m\u001b[0m\u001b[1;33m\u001b[0m\u001b[0m\n\u001b[0;32m      3\u001b[0m \u001b[0mcon_A\u001b[0m \u001b[1;33m=\u001b[0m \u001b[0mcon\u001b[0m\u001b[1;33m[\u001b[0m\u001b[1;33m:\u001b[0m\u001b[1;33m,\u001b[0m\u001b[1;36m0\u001b[0m\u001b[1;33m]\u001b[0m\u001b[1;33m\u001b[0m\u001b[1;33m\u001b[0m\u001b[0m\n\u001b[0;32m      4\u001b[0m \u001b[1;33m\u001b[0m\u001b[0m\n\u001b[0;32m      5\u001b[0m \u001b[0mdata\u001b[0m \u001b[1;33m=\u001b[0m \u001b[1;33m[\u001b[0m\u001b[0mcon\u001b[0m\u001b[1;33m[\u001b[0m\u001b[1;33m:\u001b[0m\u001b[1;33m,\u001b[0m\u001b[1;36m0\u001b[0m\u001b[1;33m]\u001b[0m\u001b[1;33m,\u001b[0m \u001b[0mdil\u001b[0m\u001b[1;33m[\u001b[0m\u001b[1;33m:\u001b[0m\u001b[1;33m,\u001b[0m\u001b[1;36m0\u001b[0m\u001b[1;33m]\u001b[0m\u001b[1;33m,\u001b[0m \u001b[0masp\u001b[0m\u001b[1;33m[\u001b[0m\u001b[1;33m:\u001b[0m\u001b[1;33m,\u001b[0m\u001b[1;36m0\u001b[0m\u001b[1;33m]\u001b[0m\u001b[1;33m]\u001b[0m\u001b[1;33m\u001b[0m\u001b[1;33m\u001b[0m\u001b[0m\n",
      "\u001b[1;31mNameError\u001b[0m: name 'dil' is not defined"
     ]
    }
   ],
   "source": [
    "dil_A = dil[:,0]\n",
    "asp_A = asp[:,0]\n",
    "con_A = con[:,0]\n",
    "\n",
    "data = [con[:,0], dil[:,0], asp[:,0]]\n",
    "# Import libraries\n",
    "import matplotlib.pyplot as plt\n",
    "import numpy as np\n",
    "\n",
    "fig = plt.figure(figsize =(10, 7))\n",
    " \n",
    "# Creating axes instance\n",
    "ax = fig.add_axes([0, 0, 1, 1])\n",
    " \n",
    "# Creating plot\n",
    "bp = ax.boxplot(data)\n",
    "\n",
    "\n",
    "ax.set_xticklabels(['Baseline Approach', 'Dilated Convolution Approach',\n",
    "                    'ASPP Approach'])\n",
    "#ax.set_xticks(['no dilation model', 'dilation rate = 2', 'ASPP model'])\n",
    "# show plot\n",
    "plt.show()"
   ]
  },
  {
   "cell_type": "code",
   "execution_count": 53,
   "id": "cf33f1ed",
   "metadata": {},
   "outputs": [
    {
     "name": "stdout",
     "output_type": "stream",
     "text": [
      "0.0011011099712485391\n"
     ]
    }
   ],
   "source": [
    "from scipy.stats import mannwhitneyu\n",
    "stat, p = mannwhitneyu(dil_A, asp_A)\n",
    "print(p)"
   ]
  },
  {
   "cell_type": "code",
   "execution_count": null,
   "id": "cb61dd2c",
   "metadata": {},
   "outputs": [],
   "source": [
    "ex = test_UCF[5]\n",
    "im = ex[0].unsqueeze(0).to(device)\n",
    "im.shape\n",
    "\n",
    "start = time.time()\n",
    "a = modeltest(im)\n",
    "\n",
    "print(\"inference time:\", time.time() - start)\n",
    "print(\"actual: \",ex[2])\n",
    "print(\"predicted: \",np.sum(a[0][0].cpu().detach().numpy()))\n",
    "\n",
    "fig, axs = plt.subplots(1, 3, figsize=(15,20))\n",
    "axs[0].imshow(ex[0][0].detach().numpy())\n",
    "axs[1].imshow(ex[1][0].detach().numpy())\n",
    "axs[2].imshow(a[0][0].cpu().detach().numpy())\n",
    "plt.show()"
   ]
  }
 ],
 "metadata": {
  "kernelspec": {
   "display_name": "Python 3",
   "language": "python",
   "name": "python3"
  },
  "language_info": {
   "codemirror_mode": {
    "name": "ipython",
    "version": 3
   },
   "file_extension": ".py",
   "mimetype": "text/x-python",
   "name": "python",
   "nbconvert_exporter": "python",
   "pygments_lexer": "ipython3",
   "version": "3.8.8"
  }
 },
 "nbformat": 4,
 "nbformat_minor": 5
}
