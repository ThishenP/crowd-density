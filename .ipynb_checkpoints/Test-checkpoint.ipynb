{
 "cells": [
  {
   "cell_type": "code",
   "execution_count": 1,
   "id": "c1f91800",
   "metadata": {
    "scrolled": true
   },
   "outputs": [
    {
     "data": {
      "text/plain": [
       "device(type='cuda', index=0)"
      ]
     },
     "execution_count": 1,
     "metadata": {},
     "output_type": "execute_result"
    }
   ],
   "source": [
    "import torch\n",
    "import os\n",
    "from dataset import CDEDataset\n",
    "from torchvision import transforms\n",
    "from torch.utils.data import DataLoader\n",
    "import time\n",
    "import numpy as np\n",
    "import matplotlib.pyplot as plt\n",
    "\n",
    "if torch.cuda.is_available(): \n",
    "    device = torch.device(\"cuda:0\")\n",
    "else:\n",
    "    device = torch.device(\"cpu\")\n",
    "device"
   ]
  },
  {
   "cell_type": "code",
   "execution_count": 2,
   "id": "d4a36e2f",
   "metadata": {},
   "outputs": [],
   "source": [
    "no_dilation_models = []\n",
    "for i in range(7):\n",
    "    no_dilation_models.append(torch.load(f\"Models/dilationNone/conv_{i+1}_800.pt\"))\n",
    "    \n",
    "dilation_2_models = []\n",
    "for i in range(8):\n",
    "    dilation_2_models.append(torch.load(f\"Models/dilation2/dil2_{i+1}_800.pt\"))\n",
    "    \n",
    "aspp_models = []\n",
    "for i in range(7):\n",
    "    aspp_models.append(torch.load(f\"Models/aspp/aspp_{i+1}_800.pt\"))"
   ]
  },
  {
   "cell_type": "code",
   "execution_count": 3,
   "id": "81ac6ca9",
   "metadata": {},
   "outputs": [],
   "source": [
    "root_ims = '../CDE_Data/ShanghaiTech/ShanghaiTech/part_A/test_data/images'\n",
    "root_ann = '../CDE_Data/ShanghaiTech/ShanghaiTech/part_A/test_data/density_gt'\n",
    "im_list = os.listdir(root_ims)\n",
    "test_SH_A = CDEDataset(im_list,root_ims,root_ann, transform  = transforms.Compose([\n",
    "                transforms.ToTensor(),\n",
    "                transforms.Normalize([0.485, 0.456, 0.406], [0.229, 0.224, 0.225])\n",
    "            ]), train =False)\n",
    "\n",
    "root_ims = '../CDE_Data/ShanghaiTech/ShanghaiTech/part_B/test_data/images'\n",
    "root_ann = '../CDE_Data/ShanghaiTech/ShanghaiTech/part_B/test_data/density_gt'\n",
    "im_list = os.listdir(root_ims)\n",
    "test_SH_B = CDEDataset(im_list,root_ims,root_ann, transform  = transforms.Compose([\n",
    "                transforms.ToTensor(),\n",
    "                transforms.Normalize([0.485, 0.456, 0.406], [0.229, 0.224, 0.225])\n",
    "            ]), train =False)\n",
    "\n",
    "root_ims = '../CDE_Data/UCF_CC_50/images'\n",
    "root_ann = '../CDE_Data/UCF_CC_50/density_gt'\n",
    "im_list = os.listdir(root_ims)\n",
    "test_UCF = CDEDataset(im_list,root_ims,root_ann, transform  = transforms.Compose([\n",
    "                transforms.ToTensor(),\n",
    "                transforms.Normalize([0.485, 0.456, 0.406], [0.229, 0.224, 0.225])\n",
    "            ]), train =False)"
   ]
  },
  {
   "cell_type": "code",
   "execution_count": 4,
   "id": "4dc040cd",
   "metadata": {},
   "outputs": [],
   "source": [
    "test_SH_A_dataloader = DataLoader(test_SH_A, batch_size=1, shuffle=True)\n",
    "test_SH_B_dataloader = DataLoader(test_SH_B, batch_size=1, shuffle=True)\n",
    "test_UCF_dataloader = DataLoader(test_UCF, batch_size=1, shuffle=True)\n",
    "\n",
    "test_dataloaders = [test_SH_A_dataloader, test_SH_B_dataloader, test_UCF_dataloader]"
   ]
  },
  {
   "cell_type": "code",
   "execution_count": 5,
   "id": "d875a887",
   "metadata": {},
   "outputs": [],
   "source": [
    "def evaluate(model,dataloaders):\n",
    "\n",
    "    maes = []\n",
    "    mses = []\n",
    "    for loader in dataloaders:\n",
    "        losses =[]\n",
    "\n",
    "        model.eval()\n",
    "        with torch.no_grad():    \n",
    "            for i, data in enumerate(loader, 0):\n",
    "                # evaluate the model on the test set\n",
    "                inputs, labels, true_count = data\n",
    "\n",
    "\n",
    "                inputs = inputs.to(device)\n",
    "                labels = labels.to(device)\n",
    "                outputs = model(inputs)\n",
    "\n",
    "                pred_count = np.sum(outputs[0][0].cpu().detach().numpy())\n",
    "                true_count = true_count.cpu().detach().numpy()\n",
    "\n",
    "                losses.append(pred_count - true_count)\n",
    "\n",
    "                print(i, end = \" \")\n",
    "        mae = np.mean(np.abs(losses))\n",
    "        mse = np.sqrt(np.mean(np.square(losses)))\n",
    "        maes.append(mae)\n",
    "        mses.append(mse)\n",
    "    return maes, mses\n",
    "        "
   ]
  },
  {
   "cell_type": "code",
   "execution_count": 6,
   "id": "ff16a32a",
   "metadata": {},
   "outputs": [
    {
     "name": "stdout",
     "output_type": "stream",
     "text": [
      "0 1 0 1 0 1 0 1 0 1 0 1 0 1 0 1 0 1 0 1 0 1 0 1 0 1 0 1 0 1 0 1 0 1 0 1 0 1 0 1 0 1 0 1 0 1 0 1 0 1 0 1 0 1 0 1 0 1 0 1 0 1 0 1 0 1 0 1 0 1 0 1 0 1 0 1 0 1 0 1 0 1 0 1 0 1 0 1 0 1 0 1 0 1 0 1 0 1 0 1 0 1 0 1 0 1 0 1 0 1 0 1 0 1 0 1 0 1 0 1 0 1 0 1 0 1 0 1 0 1 0 1 "
     ]
    }
   ],
   "source": [
    "no_dil_maes = []\n",
    "no_dil_mses = []\n",
    "\n",
    "for model in no_dilation_models:\n",
    "    maes, mses = evaluate(model, test_dataloaders)\n",
    "    no_dil_maes.append(maes)\n",
    "    no_dil_mses.append(mses)\n",
    "    \n",
    "no_dil_maes = np.array(no_dil_maes)\n",
    "no_dil_mses = np.array(no_dil_maes)\n",
    "    \n",
    "dil_2_maes = []\n",
    "dil_2_mses = []\n",
    "\n",
    "for model in dilation_2_models:\n",
    "    maes, mses = evaluate(model, test_dataloaders)\n",
    "    dil_2_maes.append(maes)\n",
    "    dil_2_mses.append(mses)\n",
    "\n",
    "dil_2_maes = np.array(dil_2_maes)\n",
    "dil_2_mses = np.array(dil_2_mses)\n",
    "    \n",
    "aspp_maes = []\n",
    "aspp_mses = []\n",
    "\n",
    "for model in aspp_models:\n",
    "    maes, mses = evaluate(model, test_dataloaders)\n",
    "    aspp_maes.append(maes)\n",
    "    aspp_mses.append(mses)\n",
    "    \n",
    "aspp_maes = np.array(aspp_maes)\n",
    "aspp_mses = np.array(aspp_mses)   "
   ]
  },
  {
   "cell_type": "code",
   "execution_count": 8,
   "id": "9fe3dac4",
   "metadata": {},
   "outputs": [
    {
     "data": {
      "text/plain": [
       "array([[120.81903076,  38.983675  , 950.10710144],\n",
       "       [123.23551941,  52.90758228, 621.83308411],\n",
       "       [ 82.04025269,  21.45450974, 694.24008179],\n",
       "       [144.58102417,  23.0792942 , 805.4524231 ],\n",
       "       [133.02142334,  28.56994486, 711.70791626],\n",
       "       [112.3518219 ,  26.41638803, 756.69429016],\n",
       "       [164.46046448,  19.9282465 , 765.34695435]])"
      ]
     },
     "execution_count": 8,
     "metadata": {},
     "output_type": "execute_result"
    }
   ],
   "source": [
    "aspp_maes"
   ]
  },
  {
   "cell_type": "code",
   "execution_count": 9,
   "id": "65810d1d",
   "metadata": {},
   "outputs": [
    {
     "data": {
      "text/plain": [
       "array([[205.03204346,  34.22775173, 675.51594543],\n",
       "       [         inf,          inf,          inf],\n",
       "       [183.43681335,  70.24850082, 621.87406921],\n",
       "       [138.30209351,  17.42902756, 655.72915649],\n",
       "       [182.39247131,  20.5289135 , 651.93612671],\n",
       "       [126.82597351,  75.07871246, 630.59580994],\n",
       "       [107.56401062,  27.73271799, 211.41662598],\n",
       "       [225.17709351,  14.88031769, 464.63659668]])"
      ]
     },
     "execution_count": 9,
     "metadata": {},
     "output_type": "execute_result"
    }
   ],
   "source": [
    "dil_2_maes"
   ]
  },
  {
   "cell_type": "code",
   "execution_count": 7,
   "id": "cb61dd2c",
   "metadata": {},
   "outputs": [
    {
     "ename": "IndexError",
     "evalue": "list index out of range",
     "output_type": "error",
     "traceback": [
      "\u001b[1;31m---------------------------------------------------------------------------\u001b[0m",
      "\u001b[1;31mIndexError\u001b[0m                                Traceback (most recent call last)",
      "\u001b[1;32m<ipython-input-7-d4cbfe415d66>\u001b[0m in \u001b[0;36m<module>\u001b[1;34m\u001b[0m\n\u001b[1;32m----> 1\u001b[1;33m \u001b[0mex\u001b[0m \u001b[1;33m=\u001b[0m \u001b[0mtest_UCF\u001b[0m\u001b[1;33m[\u001b[0m\u001b[1;36m5\u001b[0m\u001b[1;33m]\u001b[0m\u001b[1;33m\u001b[0m\u001b[1;33m\u001b[0m\u001b[0m\n\u001b[0m\u001b[0;32m      2\u001b[0m \u001b[0mim\u001b[0m \u001b[1;33m=\u001b[0m \u001b[0mex\u001b[0m\u001b[1;33m[\u001b[0m\u001b[1;36m0\u001b[0m\u001b[1;33m]\u001b[0m\u001b[1;33m.\u001b[0m\u001b[0munsqueeze\u001b[0m\u001b[1;33m(\u001b[0m\u001b[1;36m0\u001b[0m\u001b[1;33m)\u001b[0m\u001b[1;33m.\u001b[0m\u001b[0mto\u001b[0m\u001b[1;33m(\u001b[0m\u001b[0mdevice\u001b[0m\u001b[1;33m)\u001b[0m\u001b[1;33m\u001b[0m\u001b[1;33m\u001b[0m\u001b[0m\n\u001b[0;32m      3\u001b[0m \u001b[0mim\u001b[0m\u001b[1;33m.\u001b[0m\u001b[0mshape\u001b[0m\u001b[1;33m\u001b[0m\u001b[1;33m\u001b[0m\u001b[0m\n\u001b[0;32m      4\u001b[0m \u001b[1;33m\u001b[0m\u001b[0m\n\u001b[0;32m      5\u001b[0m \u001b[0mstart\u001b[0m \u001b[1;33m=\u001b[0m \u001b[0mtime\u001b[0m\u001b[1;33m.\u001b[0m\u001b[0mtime\u001b[0m\u001b[1;33m(\u001b[0m\u001b[1;33m)\u001b[0m\u001b[1;33m\u001b[0m\u001b[1;33m\u001b[0m\u001b[0m\n",
      "\u001b[1;32m~\\Documents\\GitHub\\crowd-density\\dataset.py\u001b[0m in \u001b[0;36m__getitem__\u001b[1;34m(self, index)\u001b[0m\n\u001b[0;32m     25\u001b[0m \u001b[1;33m\u001b[0m\u001b[0m\n\u001b[0;32m     26\u001b[0m     \u001b[1;32mdef\u001b[0m \u001b[0m__getitem__\u001b[0m\u001b[1;33m(\u001b[0m\u001b[0mself\u001b[0m\u001b[1;33m,\u001b[0m\u001b[0mindex\u001b[0m\u001b[1;33m)\u001b[0m\u001b[1;33m:\u001b[0m\u001b[1;33m\u001b[0m\u001b[1;33m\u001b[0m\u001b[0m\n\u001b[1;32m---> 27\u001b[1;33m         \u001b[0mimage\u001b[0m\u001b[1;33m,\u001b[0m\u001b[0mgt\u001b[0m\u001b[1;33m,\u001b[0m \u001b[0mcount\u001b[0m \u001b[1;33m=\u001b[0m \u001b[0mread_data\u001b[0m\u001b[1;33m(\u001b[0m\u001b[0mself\u001b[0m\u001b[1;33m.\u001b[0m\u001b[0mim_list\u001b[0m\u001b[1;33m[\u001b[0m\u001b[0mindex\u001b[0m\u001b[1;33m]\u001b[0m\u001b[1;33m,\u001b[0m \u001b[0mself\u001b[0m\u001b[1;33m.\u001b[0m\u001b[0mroot_X\u001b[0m\u001b[1;33m,\u001b[0m \u001b[0mself\u001b[0m\u001b[1;33m.\u001b[0m\u001b[0mroot_y\u001b[0m\u001b[1;33m,\u001b[0m \u001b[0mtrain\u001b[0m \u001b[1;33m=\u001b[0m \u001b[0mself\u001b[0m\u001b[1;33m.\u001b[0m\u001b[0mtrain\u001b[0m\u001b[1;33m,\u001b[0m \u001b[0mdilated2\u001b[0m \u001b[1;33m=\u001b[0m \u001b[0mself\u001b[0m\u001b[1;33m.\u001b[0m\u001b[0mdilated2\u001b[0m\u001b[1;33m)\u001b[0m\u001b[1;33m\u001b[0m\u001b[1;33m\u001b[0m\u001b[0m\n\u001b[0m\u001b[0;32m     28\u001b[0m         \u001b[0mtr\u001b[0m \u001b[1;33m=\u001b[0m \u001b[0mtransforms\u001b[0m\u001b[1;33m.\u001b[0m\u001b[0mToTensor\u001b[0m\u001b[1;33m(\u001b[0m\u001b[1;33m)\u001b[0m\u001b[1;33m\u001b[0m\u001b[1;33m\u001b[0m\u001b[0m\n\u001b[0;32m     29\u001b[0m         \u001b[0mgt\u001b[0m \u001b[1;33m=\u001b[0m \u001b[0mtr\u001b[0m\u001b[1;33m(\u001b[0m\u001b[0mgt\u001b[0m\u001b[1;33m)\u001b[0m\u001b[1;33m\u001b[0m\u001b[1;33m\u001b[0m\u001b[0m\n",
      "\u001b[1;31mIndexError\u001b[0m: list index out of range"
     ]
    }
   ],
   "source": [
    "ex = test_UCF[5]\n",
    "im = ex[0].unsqueeze(0).to(device)\n",
    "im.shape\n",
    "\n",
    "start = time.time()\n",
    "a = modeltest(im)\n",
    "\n",
    "print(\"inference time:\", time.time() - start)\n",
    "print(\"actual: \",ex[2])\n",
    "print(\"predicted: \",np.sum(a[0][0].cpu().detach().numpy()))\n",
    "\n",
    "fig, axs = plt.subplots(1, 3, figsize=(15,20))\n",
    "axs[0].imshow(ex[0][0].detach().numpy())\n",
    "axs[1].imshow(ex[1][0].detach().numpy())\n",
    "axs[2].imshow(a[0][0].cpu().detach().numpy())\n",
    "plt.show()"
   ]
  },
  {
   "cell_type": "code",
   "execution_count": null,
   "id": "d1fb810a",
   "metadata": {},
   "outputs": [],
   "source": []
  }
 ],
 "metadata": {
  "kernelspec": {
   "display_name": "Python 3",
   "language": "python",
   "name": "python3"
  },
  "language_info": {
   "codemirror_mode": {
    "name": "ipython",
    "version": 3
   },
   "file_extension": ".py",
   "mimetype": "text/x-python",
   "name": "python",
   "nbconvert_exporter": "python",
   "pygments_lexer": "ipython3",
   "version": "3.8.8"
  }
 },
 "nbformat": 4,
 "nbformat_minor": 5
}
