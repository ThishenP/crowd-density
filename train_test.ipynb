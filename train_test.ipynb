{
 "cells": [
  {
   "cell_type": "code",
   "execution_count": 1,
   "id": "014fb8e5",
   "metadata": {},
   "outputs": [
    {
     "name": "stderr",
     "output_type": "stream",
     "text": [
      "/home/thishen/.local/lib/python3.8/site-packages/skimage/io/manage_plugins.py:23: UserWarning: Your installed pillow version is < 7.1.0. Several security issues (CVE-2020-11538, CVE-2020-10379, CVE-2020-10994, CVE-2020-10177) have been fixed in pillow 7.1.0 or higher. We recommend to upgrade this library.\n",
      "  from .collection import imread_collection_wrapper\n"
     ]
    }
   ],
   "source": [
    "from model import Net\n",
    "from dataset import CDEDataset\n",
    "from torchvision import transforms\n",
    "import torch\n",
    "import os\n",
    "import matplotlib.pyplot as plt\n",
    "\n",
    "import torch.nn as nn\n",
    "import torch.optim as optim\n",
    "from torch.utils.data import DataLoader\n"
   ]
  },
  {
   "cell_type": "code",
   "execution_count": 2,
   "id": "7ccc1aa8",
   "metadata": {},
   "outputs": [
    {
     "name": "stdout",
     "output_type": "stream",
     "text": [
      "0\n",
      "<PIL.Image.Image image mode=RGB size=962x662 at 0x7F3B2693C7F0>\n",
      "368.0\n",
      "363.50853580765084\n",
      "<PIL.Image.Image image mode=RGB size=962x662 at 0x7F3B2693C7F0>\n",
      "(662, 962)\n",
      "<PIL.Image.Image image mode=RGB size=1024x768 at 0x7F3B2693CA30>\n",
      "962.0000000000007\n",
      "962.000343586518\n",
      "<PIL.Image.Image image mode=RGB size=1024x768 at 0x7F3B2693CA30>\n",
      "(768, 1024)\n",
      "<PIL.Image.Image image mode=RGB size=1024x683 at 0x7F3B2693CA30>\n",
      "240.00000000000026\n",
      "238.87054391613304\n",
      "<PIL.Image.Image image mode=RGB size=1024x683 at 0x7F3B2693CA30>\n",
      "(683, 1024)\n",
      "<PIL.Image.Image image mode=RGB size=620x430 at 0x7F3B2693C9A0>\n",
      "1319.0000000000007\n",
      "1292.2864737896089\n",
      "<PIL.Image.Image image mode=RGB size=620x430 at 0x7F3B2693C9A0>\n",
      "(430, 620)\n",
      "<PIL.Image.Image image mode=RGB size=1024x683 at 0x7F3B2693C9A0>\n",
      "1954.9999999999975\n",
      "1946.0617370324435\n",
      "<PIL.Image.Image image mode=RGB size=1024x683 at 0x7F3B2693C9A0>\n",
      "(683, 1024)\n",
      "<PIL.Image.Image image mode=RGB size=1024x327 at 0x7F3B2693C970>\n",
      "2671.999999999999\n",
      "2614.775771943627\n",
      "<PIL.Image.Image image mode=RGB size=1024x327 at 0x7F3B2693C970>\n",
      "(327, 1024)\n",
      "<PIL.Image.Image image mode=RGB size=709x469 at 0x7F3B2693C970>\n",
      "300.0000000000004\n",
      "294.6960593535386\n",
      "<PIL.Image.Image image mode=RGB size=709x469 at 0x7F3B2693C970>\n",
      "(469, 709)\n",
      "<PIL.Image.Image image mode=RGB size=1024x768 at 0x7F3B2693CB20>\n",
      "247.00000000000009\n",
      "247.0002992464698\n",
      "<PIL.Image.Image image mode=RGB size=1024x768 at 0x7F3B2693CB20>\n",
      "(768, 1024)\n",
      "<PIL.Image.Image image mode=RGB size=488x294 at 0x7F3B2693CB20>\n",
      "165.99999999999991\n",
      "162.59572141246517\n",
      "<PIL.Image.Image image mode=RGB size=488x294 at 0x7F3B2693CB20>\n",
      "(294, 488)\n",
      "<PIL.Image.Image image mode=RGB size=1024x680 at 0x7F3B2693C9D0>\n",
      "102.00000000000016\n",
      "102.00010514345949\n",
      "<PIL.Image.Image image mode=RGB size=1024x680 at 0x7F3B2693C9D0>\n",
      "(680, 1024)\n",
      "<PIL.Image.Image image mode=RGB size=680x453 at 0x7F3B2693C9D0>\n",
      "658.0000000000006\n",
      "650.7251325899077\n",
      "<PIL.Image.Image image mode=RGB size=680x453 at 0x7F3B2693C9D0>\n",
      "(453, 680)\n",
      "<PIL.Image.Image image mode=RGB size=1024x768 at 0x7F3B2693C970>\n",
      "727.0000000000007\n",
      "726.9997563692174\n",
      "<PIL.Image.Image image mode=RGB size=1024x768 at 0x7F3B2693C970>\n",
      "(768, 1024)\n",
      "<PIL.Image.Image image mode=RGB size=620x351 at 0x7F3B2693C970>\n",
      "272.99999999999983\n",
      "265.8725353729679\n",
      "<PIL.Image.Image image mode=RGB size=620x351 at 0x7F3B2693C970>\n",
      "(351, 620)\n",
      "<PIL.Image.Image image mode=RGB size=634x426 at 0x7F3B2693CA30>\n",
      "203.00000000000006\n",
      "201.4148735474166\n",
      "<PIL.Image.Image image mode=RGB size=634x426 at 0x7F3B2693CA30>\n",
      "(426, 634)\n",
      "<PIL.Image.Image image mode=RGB size=1024x683 at 0x7F3B2693CA00>\n",
      "162.99999999999994\n",
      "162.25424455414523\n",
      "<PIL.Image.Image image mode=RGB size=1024x683 at 0x7F3B2693CA00>\n",
      "(683, 1024)\n",
      "<PIL.Image.Image image mode=RGB size=1024x683 at 0x7F3B2693C7F0>\n",
      "199.00000000000023\n",
      "198.13091388179825\n",
      "<PIL.Image.Image image mode=RGB size=1024x683 at 0x7F3B2693C7F0>\n",
      "(683, 1024)\n",
      "<PIL.Image.Image image mode=RGB size=464x183 at 0x7F3B2693CB50>\n",
      "243.00000000000023\n",
      "233.70406502420042\n",
      "<PIL.Image.Image image mode=RGB size=464x183 at 0x7F3B2693CB50>\n",
      "(183, 464)\n",
      "<PIL.Image.Image image mode=RGB size=720x479 at 0x7F3B2693C7F0>\n",
      "424.0000000000005\n",
      "417.8348303198148\n",
      "<PIL.Image.Image image mode=RGB size=720x479 at 0x7F3B2693C7F0>\n",
      "(479, 720)\n",
      "<PIL.Image.Image image mode=RGB size=932x544 at 0x7F3B2693C7F0>\n",
      "317.0\n",
      "315.6566729187828\n",
      "<PIL.Image.Image image mode=RGB size=932x544 at 0x7F3B2693C7F0>\n",
      "(544, 932)\n",
      "<PIL.Image.Image image mode=RGB size=1024x561 at 0x7F3B2693C9A0>\n",
      "350.00000000000034\n",
      "349.4592534985684\n",
      "<PIL.Image.Image image mode=RGB size=1024x561 at 0x7F3B2693C9A0>\n",
      "(561, 1024)\n",
      "<PIL.Image.Image image mode=RGB size=628x418 at 0x7F3B2693CA90>\n",
      "335.99999999999994\n",
      "332.2954626535284\n",
      "<PIL.Image.Image image mode=RGB size=628x418 at 0x7F3B2693CA90>\n",
      "(418, 628)\n",
      "<PIL.Image.Image image mode=RGB size=1024x683 at 0x7F3B2693CB20>\n",
      "86.99999999999994\n",
      "86.61230080964474\n",
      "<PIL.Image.Image image mode=RGB size=1024x683 at 0x7F3B2693CB20>\n",
      "(683, 1024)\n",
      "<PIL.Image.Image image mode=RGB size=1024x576 at 0x7F3B2693CB20>\n",
      "39.00000000000003\n",
      "38.99987549646488\n",
      "<PIL.Image.Image image mode=RGB size=1024x576 at 0x7F3B2693CB20>\n",
      "(576, 1024)\n",
      "<PIL.Image.Image image mode=RGB size=377x282 at 0x7F3B2693C7F0>\n",
      "297.00000000000006\n",
      "294.1399194488815\n",
      "<PIL.Image.Image image mode=RGB size=377x282 at 0x7F3B2693C7F0>\n",
      "(282, 377)\n",
      "<PIL.Image.Image image mode=RGB size=550x366 at 0x7F3B2693C7F0>\n",
      "222.00000000000006\n",
      "215.95012429750574\n",
      "<PIL.Image.Image image mode=RGB size=550x366 at 0x7F3B2693C7F0>\n",
      "(366, 550)\n",
      "<PIL.Image.Image image mode=RGB size=1024x681 at 0x7F3B2693CAF0>\n",
      "471.99999999999966\n",
      "471.2584961417205\n",
      "<PIL.Image.Image image mode=RGB size=1024x681 at 0x7F3B2693CAF0>\n",
      "(681, 1024)\n",
      "<PIL.Image.Image image mode=RGB size=1024x656 at 0x7F3B2693CAF0>\n",
      "569.0000000000006\n",
      "569.0000758365314\n",
      "<PIL.Image.Image image mode=RGB size=1024x656 at 0x7F3B2693CAF0>\n",
      "(656, 1024)\n",
      "<PIL.Image.Image image mode=RGB size=442x293 at 0x7F3B2693CA00>\n",
      "85.00000000000003\n",
      "83.1798882468844\n",
      "<PIL.Image.Image image mode=RGB size=442x293 at 0x7F3B2693CA00>\n",
      "(293, 442)\n",
      "<PIL.Image.Image image mode=RGB size=1024x686 at 0x7F3B2693CA00>\n",
      "974.9999999999995\n",
      "966.4516436631305\n",
      "<PIL.Image.Image image mode=RGB size=1024x686 at 0x7F3B2693CA00>\n",
      "(686, 1024)\n",
      "<PIL.Image.Image image mode=RGB size=1024x768 at 0x7F3B2693C7F0>\n",
      "316.99999999999943\n",
      "316.9998426391622\n",
      "<PIL.Image.Image image mode=RGB size=1024x768 at 0x7F3B2693C7F0>\n",
      "(768, 1024)\n",
      "<PIL.Image.Image image mode=RGB size=1024x594 at 0x7F3B2693C7F0>\n",
      "216.0000000000001\n",
      "215.2688232636719\n",
      "<PIL.Image.Image image mode=RGB size=1024x594 at 0x7F3B2693C7F0>\n",
      "(594, 1024)\n",
      "<PIL.Image.Image image mode=RGB size=1024x768 at 0x7F3B2693CB50>\n",
      "554.0000000000003\n",
      "553.9995867559361\n",
      "<PIL.Image.Image image mode=RGB size=1024x768 at 0x7F3B2693CB50>\n",
      "(768, 1024)\n",
      "<PIL.Image.Image image mode=RGB size=1024x688 at 0x7F3B2693CB50>\n",
      "407.99999999999955\n",
      "408.00021331839446\n",
      "<PIL.Image.Image image mode=RGB size=1024x688 at 0x7F3B2693CB50>\n",
      "(688, 1024)\n",
      "<PIL.Image.Image image mode=RGB size=1024x683 at 0x7F3B2693CA90>\n",
      "2007.0000000000032\n",
      "1998.036908259484\n",
      "<PIL.Image.Image image mode=RGB size=1024x683 at 0x7F3B2693CA90>\n",
      "(683, 1024)\n",
      "<PIL.Image.Image image mode=RGB size=1024x728 at 0x7F3B2693CA90>\n",
      "103.99999999999993\n",
      "103.99984656582008\n",
      "<PIL.Image.Image image mode=RGB size=1024x728 at 0x7F3B2693CA90>\n",
      "(728, 1024)\n",
      "<PIL.Image.Image image mode=RGB size=605x328 at 0x7F3B2693C8E0>\n",
      "88.99999999999997\n",
      "88.27125719710158\n",
      "<PIL.Image.Image image mode=RGB size=605x328 at 0x7F3B2693C8E0>\n",
      "(328, 605)\n",
      "<PIL.Image.Image image mode=RGB size=1024x683 at 0x7F3B2693C8E0>\n",
      "410.9999999999997\n",
      "408.9215906567476\n",
      "<PIL.Image.Image image mode=RGB size=1024x683 at 0x7F3B2693C8E0>\n",
      "(683, 1024)\n",
      "<PIL.Image.Image image mode=RGB size=720x480 at 0x7F3B2693CA00>\n",
      "232.00000000000037\n",
      "232.00023388191576\n",
      "<PIL.Image.Image image mode=RGB size=720x480 at 0x7F3B2693CA00>\n",
      "(480, 720)\n",
      "<PIL.Image.Image image mode=RGB size=800x451 at 0x7F3B2693C8E0>\n",
      "364.9999999999997\n",
      "362.4672204992691\n",
      "<PIL.Image.Image image mode=RGB size=800x451 at 0x7F3B2693C8E0>\n",
      "(451, 800)\n",
      "<PIL.Image.Image image mode=RGB size=1024x768 at 0x7F3B2693CA00>\n",
      "417.9999999999999\n",
      "418.0001611054061\n",
      "<PIL.Image.Image image mode=RGB size=1024x768 at 0x7F3B2693CA00>\n",
      "(768, 1024)\n",
      "<PIL.Image.Image image mode=RGB size=962x663 at 0x7F3B2693C8E0>\n",
      "798.9999999999994\n",
      "788.5475931736537\n",
      "<PIL.Image.Image image mode=RGB size=962x663 at 0x7F3B2693C8E0>\n",
      "(663, 962)\n",
      "<PIL.Image.Image image mode=RGB size=1024x768 at 0x7F3B2693C9D0>\n",
      "849.0000000000028\n",
      "849.000013517028\n",
      "<PIL.Image.Image image mode=RGB size=1024x768 at 0x7F3B2693C9D0>\n",
      "(768, 1024)\n",
      "<PIL.Image.Image image mode=RGB size=1024x681 at 0x7F3B2693CA30>\n",
      "2163.9999999999964\n",
      "2160.1016263361407\n",
      "<PIL.Image.Image image mode=RGB size=1024x681 at 0x7F3B2693CA30>\n",
      "(681, 1024)\n",
      "<PIL.Image.Image image mode=RGB size=1017x798 at 0x7F3B2693C8E0>\n",
      "136.00000000000006\n",
      "134.82842808373775\n",
      "<PIL.Image.Image image mode=RGB size=1017x798 at 0x7F3B2693C8E0>\n",
      "(798, 1017)\n",
      "<PIL.Image.Image image mode=RGB size=1024x681 at 0x7F3B2693CA30>\n",
      "562.000000000001\n",
      "560.8819465526293\n",
      "<PIL.Image.Image image mode=RGB size=1024x681 at 0x7F3B2693CA30>\n",
      "(681, 1024)\n",
      "<PIL.Image.Image image mode=RGB size=1024x768 at 0x7F3B2693C8E0>\n",
      "819.9999999999999\n",
      "819.9991175607333\n",
      "<PIL.Image.Image image mode=RGB size=1024x768 at 0x7F3B2693C8E0>\n",
      "(768, 1024)\n",
      "<PIL.Image.Image image mode=RGB size=1024x768 at 0x7F3B2693CA30>\n",
      "553.9999999999999\n",
      "554.0002014514571\n",
      "<PIL.Image.Image image mode=RGB size=1024x768 at 0x7F3B2693CA30>\n",
      "(768, 1024)\n",
      "<PIL.Image.Image image mode=RGB size=1024x747 at 0x7F3B2693C8E0>\n",
      "388.00000000000034\n",
      "386.3138404910469\n",
      "<PIL.Image.Image image mode=RGB size=1024x747 at 0x7F3B2693C8E0>\n",
      "(747, 1024)\n",
      "<PIL.Image.Image image mode=RGB size=849x565 at 0x7F3B2693CA30>\n",
      "66.00000000000003\n",
      "65.35213716339157\n",
      "<PIL.Image.Image image mode=RGB size=849x565 at 0x7F3B2693CA30>\n",
      "(565, 849)\n",
      "<PIL.Image.Image image mode=RGB size=800x530 at 0x7F3B2693C8E0>\n",
      "444.9999999999995\n",
      "443.296495843525\n",
      "<PIL.Image.Image image mode=RGB size=800x530 at 0x7F3B2693C8E0>\n",
      "(530, 800)\n"
     ]
    },
    {
     "ename": "RuntimeError",
     "evalue": "stack expects each tensor to be equal size, but got [3, 662, 962] at entry 0 and [3, 768, 1024] at entry 1",
     "output_type": "error",
     "traceback": [
      "\u001b[0;31m---------------------------------------------------------------------------\u001b[0m",
      "\u001b[0;31mRuntimeError\u001b[0m                              Traceback (most recent call last)",
      "\u001b[0;32m/tmp/ipykernel_23451/958177199.py\u001b[0m in \u001b[0;36m<module>\u001b[0;34m\u001b[0m\n\u001b[1;32m     19\u001b[0m     \u001b[0mprint\u001b[0m\u001b[0;34m(\u001b[0m\u001b[0mepoch\u001b[0m\u001b[0;34m)\u001b[0m\u001b[0;34m\u001b[0m\u001b[0;34m\u001b[0m\u001b[0m\n\u001b[1;32m     20\u001b[0m     \u001b[0mrunning_loss\u001b[0m \u001b[0;34m=\u001b[0m \u001b[0;36m0.0\u001b[0m\u001b[0;34m\u001b[0m\u001b[0;34m\u001b[0m\u001b[0m\n\u001b[0;32m---> 21\u001b[0;31m     \u001b[0;32mfor\u001b[0m \u001b[0mi\u001b[0m\u001b[0;34m,\u001b[0m \u001b[0mdata\u001b[0m \u001b[0;32min\u001b[0m \u001b[0menumerate\u001b[0m\u001b[0;34m(\u001b[0m\u001b[0mtrain_dataloader\u001b[0m\u001b[0;34m,\u001b[0m \u001b[0;36m0\u001b[0m\u001b[0;34m)\u001b[0m\u001b[0;34m:\u001b[0m\u001b[0;34m\u001b[0m\u001b[0;34m\u001b[0m\u001b[0m\n\u001b[0m\u001b[1;32m     22\u001b[0m         \u001b[0;31m# get the inputs; data is a list of [inputs, labels]\u001b[0m\u001b[0;34m\u001b[0m\u001b[0;34m\u001b[0m\u001b[0;34m\u001b[0m\u001b[0m\n\u001b[1;32m     23\u001b[0m         \u001b[0minputs\u001b[0m\u001b[0;34m,\u001b[0m \u001b[0mlabels\u001b[0m \u001b[0;34m=\u001b[0m \u001b[0mdata\u001b[0m\u001b[0;34m\u001b[0m\u001b[0;34m\u001b[0m\u001b[0m\n",
      "\u001b[0;32m~/.local/lib/python3.8/site-packages/torch/utils/data/dataloader.py\u001b[0m in \u001b[0;36m__next__\u001b[0;34m(self)\u001b[0m\n\u001b[1;32m    433\u001b[0m         \u001b[0;32mif\u001b[0m \u001b[0mself\u001b[0m\u001b[0;34m.\u001b[0m\u001b[0m_sampler_iter\u001b[0m \u001b[0;32mis\u001b[0m \u001b[0;32mNone\u001b[0m\u001b[0;34m:\u001b[0m\u001b[0;34m\u001b[0m\u001b[0;34m\u001b[0m\u001b[0m\n\u001b[1;32m    434\u001b[0m             \u001b[0mself\u001b[0m\u001b[0;34m.\u001b[0m\u001b[0m_reset\u001b[0m\u001b[0;34m(\u001b[0m\u001b[0;34m)\u001b[0m\u001b[0;34m\u001b[0m\u001b[0;34m\u001b[0m\u001b[0m\n\u001b[0;32m--> 435\u001b[0;31m         \u001b[0mdata\u001b[0m \u001b[0;34m=\u001b[0m \u001b[0mself\u001b[0m\u001b[0;34m.\u001b[0m\u001b[0m_next_data\u001b[0m\u001b[0;34m(\u001b[0m\u001b[0;34m)\u001b[0m\u001b[0;34m\u001b[0m\u001b[0;34m\u001b[0m\u001b[0m\n\u001b[0m\u001b[1;32m    436\u001b[0m         \u001b[0mself\u001b[0m\u001b[0;34m.\u001b[0m\u001b[0m_num_yielded\u001b[0m \u001b[0;34m+=\u001b[0m \u001b[0;36m1\u001b[0m\u001b[0;34m\u001b[0m\u001b[0;34m\u001b[0m\u001b[0m\n\u001b[1;32m    437\u001b[0m         \u001b[0;32mif\u001b[0m \u001b[0mself\u001b[0m\u001b[0;34m.\u001b[0m\u001b[0m_dataset_kind\u001b[0m \u001b[0;34m==\u001b[0m \u001b[0m_DatasetKind\u001b[0m\u001b[0;34m.\u001b[0m\u001b[0mIterable\u001b[0m \u001b[0;32mand\u001b[0m\u001b[0;31m \u001b[0m\u001b[0;31m\\\u001b[0m\u001b[0;34m\u001b[0m\u001b[0;34m\u001b[0m\u001b[0m\n",
      "\u001b[0;32m~/.local/lib/python3.8/site-packages/torch/utils/data/dataloader.py\u001b[0m in \u001b[0;36m_next_data\u001b[0;34m(self)\u001b[0m\n\u001b[1;32m    473\u001b[0m     \u001b[0;32mdef\u001b[0m \u001b[0m_next_data\u001b[0m\u001b[0;34m(\u001b[0m\u001b[0mself\u001b[0m\u001b[0;34m)\u001b[0m\u001b[0;34m:\u001b[0m\u001b[0;34m\u001b[0m\u001b[0;34m\u001b[0m\u001b[0m\n\u001b[1;32m    474\u001b[0m         \u001b[0mindex\u001b[0m \u001b[0;34m=\u001b[0m \u001b[0mself\u001b[0m\u001b[0;34m.\u001b[0m\u001b[0m_next_index\u001b[0m\u001b[0;34m(\u001b[0m\u001b[0;34m)\u001b[0m  \u001b[0;31m# may raise StopIteration\u001b[0m\u001b[0;34m\u001b[0m\u001b[0;34m\u001b[0m\u001b[0m\n\u001b[0;32m--> 475\u001b[0;31m         \u001b[0mdata\u001b[0m \u001b[0;34m=\u001b[0m \u001b[0mself\u001b[0m\u001b[0;34m.\u001b[0m\u001b[0m_dataset_fetcher\u001b[0m\u001b[0;34m.\u001b[0m\u001b[0mfetch\u001b[0m\u001b[0;34m(\u001b[0m\u001b[0mindex\u001b[0m\u001b[0;34m)\u001b[0m  \u001b[0;31m# may raise StopIteration\u001b[0m\u001b[0;34m\u001b[0m\u001b[0;34m\u001b[0m\u001b[0m\n\u001b[0m\u001b[1;32m    476\u001b[0m         \u001b[0;32mif\u001b[0m \u001b[0mself\u001b[0m\u001b[0;34m.\u001b[0m\u001b[0m_pin_memory\u001b[0m\u001b[0;34m:\u001b[0m\u001b[0;34m\u001b[0m\u001b[0;34m\u001b[0m\u001b[0m\n\u001b[1;32m    477\u001b[0m             \u001b[0mdata\u001b[0m \u001b[0;34m=\u001b[0m \u001b[0m_utils\u001b[0m\u001b[0;34m.\u001b[0m\u001b[0mpin_memory\u001b[0m\u001b[0;34m.\u001b[0m\u001b[0mpin_memory\u001b[0m\u001b[0;34m(\u001b[0m\u001b[0mdata\u001b[0m\u001b[0;34m)\u001b[0m\u001b[0;34m\u001b[0m\u001b[0;34m\u001b[0m\u001b[0m\n",
      "\u001b[0;32m~/.local/lib/python3.8/site-packages/torch/utils/data/_utils/fetch.py\u001b[0m in \u001b[0;36mfetch\u001b[0;34m(self, possibly_batched_index)\u001b[0m\n\u001b[1;32m     45\u001b[0m         \u001b[0;32melse\u001b[0m\u001b[0;34m:\u001b[0m\u001b[0;34m\u001b[0m\u001b[0;34m\u001b[0m\u001b[0m\n\u001b[1;32m     46\u001b[0m             \u001b[0mdata\u001b[0m \u001b[0;34m=\u001b[0m \u001b[0mself\u001b[0m\u001b[0;34m.\u001b[0m\u001b[0mdataset\u001b[0m\u001b[0;34m[\u001b[0m\u001b[0mpossibly_batched_index\u001b[0m\u001b[0;34m]\u001b[0m\u001b[0;34m\u001b[0m\u001b[0;34m\u001b[0m\u001b[0m\n\u001b[0;32m---> 47\u001b[0;31m         \u001b[0;32mreturn\u001b[0m \u001b[0mself\u001b[0m\u001b[0;34m.\u001b[0m\u001b[0mcollate_fn\u001b[0m\u001b[0;34m(\u001b[0m\u001b[0mdata\u001b[0m\u001b[0;34m)\u001b[0m\u001b[0;34m\u001b[0m\u001b[0;34m\u001b[0m\u001b[0m\n\u001b[0m",
      "\u001b[0;32m~/.local/lib/python3.8/site-packages/torch/utils/data/_utils/collate.py\u001b[0m in \u001b[0;36mdefault_collate\u001b[0;34m(batch)\u001b[0m\n\u001b[1;32m     81\u001b[0m             \u001b[0;32mraise\u001b[0m \u001b[0mRuntimeError\u001b[0m\u001b[0;34m(\u001b[0m\u001b[0;34m'each element in list of batch should be of equal size'\u001b[0m\u001b[0;34m)\u001b[0m\u001b[0;34m\u001b[0m\u001b[0;34m\u001b[0m\u001b[0m\n\u001b[1;32m     82\u001b[0m         \u001b[0mtransposed\u001b[0m \u001b[0;34m=\u001b[0m \u001b[0mzip\u001b[0m\u001b[0;34m(\u001b[0m\u001b[0;34m*\u001b[0m\u001b[0mbatch\u001b[0m\u001b[0;34m)\u001b[0m\u001b[0;34m\u001b[0m\u001b[0;34m\u001b[0m\u001b[0m\n\u001b[0;32m---> 83\u001b[0;31m         \u001b[0;32mreturn\u001b[0m \u001b[0;34m[\u001b[0m\u001b[0mdefault_collate\u001b[0m\u001b[0;34m(\u001b[0m\u001b[0msamples\u001b[0m\u001b[0;34m)\u001b[0m \u001b[0;32mfor\u001b[0m \u001b[0msamples\u001b[0m \u001b[0;32min\u001b[0m \u001b[0mtransposed\u001b[0m\u001b[0;34m]\u001b[0m\u001b[0;34m\u001b[0m\u001b[0;34m\u001b[0m\u001b[0m\n\u001b[0m\u001b[1;32m     84\u001b[0m \u001b[0;34m\u001b[0m\u001b[0m\n\u001b[1;32m     85\u001b[0m     \u001b[0;32mraise\u001b[0m \u001b[0mTypeError\u001b[0m\u001b[0;34m(\u001b[0m\u001b[0mdefault_collate_err_msg_format\u001b[0m\u001b[0;34m.\u001b[0m\u001b[0mformat\u001b[0m\u001b[0;34m(\u001b[0m\u001b[0melem_type\u001b[0m\u001b[0;34m)\u001b[0m\u001b[0;34m)\u001b[0m\u001b[0;34m\u001b[0m\u001b[0;34m\u001b[0m\u001b[0m\n",
      "\u001b[0;32m~/.local/lib/python3.8/site-packages/torch/utils/data/_utils/collate.py\u001b[0m in \u001b[0;36m<listcomp>\u001b[0;34m(.0)\u001b[0m\n\u001b[1;32m     81\u001b[0m             \u001b[0;32mraise\u001b[0m \u001b[0mRuntimeError\u001b[0m\u001b[0;34m(\u001b[0m\u001b[0;34m'each element in list of batch should be of equal size'\u001b[0m\u001b[0;34m)\u001b[0m\u001b[0;34m\u001b[0m\u001b[0;34m\u001b[0m\u001b[0m\n\u001b[1;32m     82\u001b[0m         \u001b[0mtransposed\u001b[0m \u001b[0;34m=\u001b[0m \u001b[0mzip\u001b[0m\u001b[0;34m(\u001b[0m\u001b[0;34m*\u001b[0m\u001b[0mbatch\u001b[0m\u001b[0;34m)\u001b[0m\u001b[0;34m\u001b[0m\u001b[0;34m\u001b[0m\u001b[0m\n\u001b[0;32m---> 83\u001b[0;31m         \u001b[0;32mreturn\u001b[0m \u001b[0;34m[\u001b[0m\u001b[0mdefault_collate\u001b[0m\u001b[0;34m(\u001b[0m\u001b[0msamples\u001b[0m\u001b[0;34m)\u001b[0m \u001b[0;32mfor\u001b[0m \u001b[0msamples\u001b[0m \u001b[0;32min\u001b[0m \u001b[0mtransposed\u001b[0m\u001b[0;34m]\u001b[0m\u001b[0;34m\u001b[0m\u001b[0;34m\u001b[0m\u001b[0m\n\u001b[0m\u001b[1;32m     84\u001b[0m \u001b[0;34m\u001b[0m\u001b[0m\n\u001b[1;32m     85\u001b[0m     \u001b[0;32mraise\u001b[0m \u001b[0mTypeError\u001b[0m\u001b[0;34m(\u001b[0m\u001b[0mdefault_collate_err_msg_format\u001b[0m\u001b[0;34m.\u001b[0m\u001b[0mformat\u001b[0m\u001b[0;34m(\u001b[0m\u001b[0melem_type\u001b[0m\u001b[0;34m)\u001b[0m\u001b[0;34m)\u001b[0m\u001b[0;34m\u001b[0m\u001b[0;34m\u001b[0m\u001b[0m\n",
      "\u001b[0;32m~/.local/lib/python3.8/site-packages/torch/utils/data/_utils/collate.py\u001b[0m in \u001b[0;36mdefault_collate\u001b[0;34m(batch)\u001b[0m\n\u001b[1;32m     53\u001b[0m             \u001b[0mstorage\u001b[0m \u001b[0;34m=\u001b[0m \u001b[0melem\u001b[0m\u001b[0;34m.\u001b[0m\u001b[0mstorage\u001b[0m\u001b[0;34m(\u001b[0m\u001b[0;34m)\u001b[0m\u001b[0;34m.\u001b[0m\u001b[0m_new_shared\u001b[0m\u001b[0;34m(\u001b[0m\u001b[0mnumel\u001b[0m\u001b[0;34m)\u001b[0m\u001b[0;34m\u001b[0m\u001b[0;34m\u001b[0m\u001b[0m\n\u001b[1;32m     54\u001b[0m             \u001b[0mout\u001b[0m \u001b[0;34m=\u001b[0m \u001b[0melem\u001b[0m\u001b[0;34m.\u001b[0m\u001b[0mnew\u001b[0m\u001b[0;34m(\u001b[0m\u001b[0mstorage\u001b[0m\u001b[0;34m)\u001b[0m\u001b[0;34m\u001b[0m\u001b[0;34m\u001b[0m\u001b[0m\n\u001b[0;32m---> 55\u001b[0;31m         \u001b[0;32mreturn\u001b[0m \u001b[0mtorch\u001b[0m\u001b[0;34m.\u001b[0m\u001b[0mstack\u001b[0m\u001b[0;34m(\u001b[0m\u001b[0mbatch\u001b[0m\u001b[0;34m,\u001b[0m \u001b[0;36m0\u001b[0m\u001b[0;34m,\u001b[0m \u001b[0mout\u001b[0m\u001b[0;34m=\u001b[0m\u001b[0mout\u001b[0m\u001b[0;34m)\u001b[0m\u001b[0;34m\u001b[0m\u001b[0;34m\u001b[0m\u001b[0m\n\u001b[0m\u001b[1;32m     56\u001b[0m     \u001b[0;32melif\u001b[0m \u001b[0melem_type\u001b[0m\u001b[0;34m.\u001b[0m\u001b[0m__module__\u001b[0m \u001b[0;34m==\u001b[0m \u001b[0;34m'numpy'\u001b[0m \u001b[0;32mand\u001b[0m \u001b[0melem_type\u001b[0m\u001b[0;34m.\u001b[0m\u001b[0m__name__\u001b[0m \u001b[0;34m!=\u001b[0m \u001b[0;34m'str_'\u001b[0m\u001b[0;31m \u001b[0m\u001b[0;31m\\\u001b[0m\u001b[0;34m\u001b[0m\u001b[0;34m\u001b[0m\u001b[0m\n\u001b[1;32m     57\u001b[0m             \u001b[0;32mand\u001b[0m \u001b[0melem_type\u001b[0m\u001b[0;34m.\u001b[0m\u001b[0m__name__\u001b[0m \u001b[0;34m!=\u001b[0m \u001b[0;34m'string_'\u001b[0m\u001b[0;34m:\u001b[0m\u001b[0;34m\u001b[0m\u001b[0;34m\u001b[0m\u001b[0m\n",
      "\u001b[0;31mRuntimeError\u001b[0m: stack expects each tensor to be equal size, but got [3, 662, 962] at entry 0 and [3, 768, 1024] at entry 1"
     ]
    }
   ],
   "source": [
    "net = Net([(512,2),(512,2),(512,2),(256,4), (128,4), (64,4)], 23, 512)\n",
    "root_ims = 'ShanghaiTech/ShanghaiTech/part_A/train_data/images'\n",
    "root_ann = 'ShanghaiTech/ShanghaiTech/part_A/train_data/density_gt'\n",
    "im_list = os.listdir(root_ims)\n",
    "train = CDEDataset(im_list,root_ims,root_ann, transform  = transforms.ToTensor())\n",
    "\n",
    "root_ims = 'ShanghaiTech/ShanghaiTech/part_A/test_data/images'\n",
    "root_ann = 'ShanghaiTech/ShanghaiTech/part_A/test_data/density_gt'\n",
    "im_list = os.listdir(root_ims)\n",
    "test = CDEDataset(im_list,root_ims,root_ann, transform  = transforms.ToTensor())\n",
    "\n",
    "train_dataloader = DataLoader(train, batch_size=64, shuffle=True)\n",
    "test_dataloader = DataLoader(test, batch_size=64, shuffle=True)\n",
    "\n",
    "criterion = nn.MSELoss(reduction='sum')# same as nn.MSELoss(size_average=False)\n",
    "optimizer = optim.SGD(net.parameters(), lr=1e-7, momentum=0.9)\n",
    "\n",
    "for epoch in range(1):  # loop over the dataset multiple times\n",
    "    print(epoch)\n",
    "    running_loss = 0.0\n",
    "    for i, data in enumerate(train_dataloader, 0):\n",
    "        # get the inputs; data is a list of [inputs, labels]\n",
    "        inputs, labels = data\n",
    "        # zero the parameter gradients\n",
    "        optimizer.zero_grad()\n",
    "\n",
    "        # forward + backward + optimize\n",
    "        outputs = net(inputs)\n",
    "        loss = criterion(outputs,labels)\n",
    "        loss.backward()\n",
    "        optimizer.step()\n",
    "        print(loss)\n",
    "        print(loss.item())\n",
    "        # print statistics\n",
    "        running_loss += loss.item()\n",
    "        if i % 4 == 0:    # print every 2000 mini-batches\n",
    "            print('[%d, %5d] loss: %.3f' %\n",
    "                (epoch + 1, i + 1, running_loss / 4))\n",
    "            running_loss = 0.0\n",
    "\n",
    "print('Finished Training')\n"
   ]
  },
  {
   "cell_type": "code",
   "execution_count": null,
   "id": "6618b30b",
   "metadata": {},
   "outputs": [],
   "source": [
    "def show_tensor_image(f):\n",
    "    plt.imshow(f.permute(1, 2, 0))"
   ]
  },
  {
   "cell_type": "code",
   "execution_count": 33,
   "id": "d39c9e1a",
   "metadata": {},
   "outputs": [
    {
     "name": "stdout",
     "output_type": "stream",
     "text": [
      "<PIL.Image.Image image mode=RGB size=605x328 at 0x7F3B47996D00>\n",
      "88.99999999999997\n",
      "88.27125719710158\n",
      "<PIL.Image.Image image mode=RGB size=605x328 at 0x7F3B47996D00>\n",
      "(328, 605)\n"
     ]
    }
   ],
   "source": [
    "im =train[2][0].unsqueeze(0)\n",
    "im.shape\n",
    "a = net(im)\n"
   ]
  },
  {
   "cell_type": "code",
   "execution_count": 34,
   "id": "b14c6624",
   "metadata": {
    "scrolled": true
   },
   "outputs": [
    {
     "data": {
      "text/plain": [
       "torch.Size([1, 3, 328, 605])"
      ]
     },
     "execution_count": 34,
     "metadata": {},
     "output_type": "execute_result"
    }
   ],
   "source": [
    "im.shape"
   ]
  },
  {
   "cell_type": "code",
   "execution_count": 35,
   "id": "72de9e89",
   "metadata": {},
   "outputs": [
    {
     "name": "stdout",
     "output_type": "stream",
     "text": [
      "<PIL.Image.Image image mode=RGB size=605x328 at 0x7F3BFC411520>\n",
      "88.99999999999997\n",
      "88.27125719710158\n",
      "<PIL.Image.Image image mode=RGB size=605x328 at 0x7F3BFC411520>\n",
      "(328, 605)\n"
     ]
    },
    {
     "data": {
      "text/plain": [
       "torch.Size([1, 1, 41, 75])"
      ]
     },
     "execution_count": 35,
     "metadata": {},
     "output_type": "execute_result"
    }
   ],
   "source": [
    "train[2][1].unsqueeze(0).shape"
   ]
  },
  {
   "cell_type": "code",
   "execution_count": 36,
   "id": "288f038e",
   "metadata": {},
   "outputs": [
    {
     "data": {
      "text/plain": [
       "torch.Size([1, 1, 29, 63])"
      ]
     },
     "execution_count": 36,
     "metadata": {},
     "output_type": "execute_result"
    }
   ],
   "source": [
    "a.shape\n"
   ]
  },
  {
   "cell_type": "code",
   "execution_count": 46,
   "id": "a446891d",
   "metadata": {
    "scrolled": true
   },
   "outputs": [
    {
     "name": "stdout",
     "output_type": "stream",
     "text": [
      "torch.Size([1, 3, 328, 605])\n",
      "torch.Size([1, 1, 29, 63])\n",
      "\n",
      "<PIL.Image.Image image mode=RGB size=849x565 at 0x7F3B45B7B8B0>\n",
      "66.00000000000003\n",
      "65.35213716339157\n",
      "<PIL.Image.Image image mode=RGB size=849x565 at 0x7F3B45B7B8B0>\n",
      "(565, 849)\n",
      "<PIL.Image.Image image mode=RGB size=464x183 at 0x7F3B45B7B8E0>\n",
      "243.00000000000023\n",
      "233.70406502420042\n",
      "<PIL.Image.Image image mode=RGB size=464x183 at 0x7F3B45B7B8E0>\n",
      "(183, 464)\n",
      "<PIL.Image.Image image mode=RGB size=605x328 at 0x7F3B45B7B8E0>\n",
      "88.99999999999997\n",
      "88.27125719710158\n",
      "<PIL.Image.Image image mode=RGB size=605x328 at 0x7F3B45B7B8E0>\n",
      "(328, 605)\n",
      "<PIL.Image.Image image mode=RGB size=377x282 at 0x7F3B45B7B640>\n",
      "297.00000000000006\n",
      "294.1399194488815\n",
      "<PIL.Image.Image image mode=RGB size=377x282 at 0x7F3B45B7B640>\n",
      "(282, 377)\n",
      "<PIL.Image.Image image mode=RGB size=1024x681 at 0x7F3B45B7B640>\n",
      "2163.9999999999964\n",
      "2160.1016263361407\n",
      "<PIL.Image.Image image mode=RGB size=1024x681 at 0x7F3B45B7B640>\n",
      "(681, 1024)\n",
      "<PIL.Image.Image image mode=RGB size=680x453 at 0x7F3B45B7B640>\n",
      "658.0000000000006\n",
      "650.7251325899077\n",
      "<PIL.Image.Image image mode=RGB size=680x453 at 0x7F3B45B7B640>\n",
      "(453, 680)\n",
      "<PIL.Image.Image image mode=RGB size=1024x561 at 0x7F3B45B7B9A0>\n",
      "350.00000000000034\n",
      "349.4592534985684\n",
      "<PIL.Image.Image image mode=RGB size=1024x561 at 0x7F3B45B7B9A0>\n",
      "(561, 1024)\n",
      "<PIL.Image.Image image mode=RGB size=1024x688 at 0x7F3B45B7B8E0>\n",
      "407.99999999999955\n",
      "408.00021331839446\n",
      "<PIL.Image.Image image mode=RGB size=1024x688 at 0x7F3B45B7B8E0>\n",
      "(688, 1024)\n",
      "<PIL.Image.Image image mode=RGB size=1024x683 at 0x7F3B45B7B8E0>\n",
      "2007.0000000000032\n",
      "1998.036908259484\n",
      "<PIL.Image.Image image mode=RGB size=1024x683 at 0x7F3B45B7B8E0>\n",
      "(683, 1024)\n",
      "<PIL.Image.Image image mode=RGB size=1024x683 at 0x7F3B45B7BFA0>\n",
      "199.00000000000023\n",
      "198.13091388179825\n",
      "<PIL.Image.Image image mode=RGB size=1024x683 at 0x7F3B45B7BFA0>\n",
      "(683, 1024)\n"
     ]
    }
   ],
   "source": [
    "\n",
    "shapes = []\n",
    "print(im.shape)\n",
    "print(out.shape)\n",
    "print()\n",
    "for i in range(10):\n",
    "    tr = train[i]\n",
    "    im = tr[0].unsqueeze(0)\n",
    "    out = net(im)\n",
    "    shapes.append((im.shape[2]/out.shape[2], im.shape[3]/out.shape[3]))"
   ]
  },
  {
   "cell_type": "code",
   "execution_count": 47,
   "id": "bc76f8d7",
   "metadata": {},
   "outputs": [
    {
     "data": {
      "text/plain": [
       "[(9.741379310344827, 9.03191489361702),\n",
       " (18.3, 10.08695652173913),\n",
       " (11.310344827586206, 9.603174603174603),\n",
       " (12.26086956521739, 10.771428571428572),\n",
       " (9.32876712328767, 8.827586206896552),\n",
       " (10.295454545454545, 9.315068493150685),\n",
       " (9.672413793103448, 8.827586206896552),\n",
       " (9.297297297297296, 8.827586206896552),\n",
       " (9.356164383561644, 8.827586206896552),\n",
       " (9.356164383561644, 8.827586206896552)]"
      ]
     },
     "execution_count": 47,
     "metadata": {},
     "output_type": "execute_result"
    }
   ],
   "source": [
    "shapes"
   ]
  },
  {
   "cell_type": "code",
   "execution_count": null,
   "id": "b0784fbe",
   "metadata": {},
   "outputs": [],
   "source": [
    "plt.imshow(a[0][0].detach().numpy())"
   ]
  },
  {
   "cell_type": "code",
   "execution_count": null,
   "id": "633fe0cc",
   "metadata": {},
   "outputs": [],
   "source": [
    "sum(sum(a[0][0].detach().numpy()))"
   ]
  },
  {
   "cell_type": "code",
   "execution_count": null,
   "id": "c238ccb1",
   "metadata": {},
   "outputs": [],
   "source": [
    "a[0][0].detach().numpy().shape"
   ]
  },
  {
   "cell_type": "code",
   "execution_count": null,
   "id": "479275bd",
   "metadata": {},
   "outputs": [],
   "source": [
    "sum(sum(train[23][1][0].detach().numpy()))"
   ]
  },
  {
   "cell_type": "code",
   "execution_count": null,
   "id": "fea90175",
   "metadata": {},
   "outputs": [],
   "source": [
    "plt.imshow(train[23][1][0].detach().numpy())"
   ]
  },
  {
   "cell_type": "code",
   "execution_count": null,
   "id": "a83bd737",
   "metadata": {},
   "outputs": [],
   "source": [
    "train[23][0].unsqueeze(0).shape"
   ]
  },
  {
   "cell_type": "code",
   "execution_count": null,
   "id": "db23d7ba",
   "metadata": {},
   "outputs": [],
   "source": [
    "gt = train[23][1].unsqueeze(0)"
   ]
  },
  {
   "cell_type": "code",
   "execution_count": null,
   "id": "5b133be7",
   "metadata": {},
   "outputs": [],
   "source": [
    "gt.shape"
   ]
  },
  {
   "cell_type": "code",
   "execution_count": null,
   "id": "222dccb6",
   "metadata": {},
   "outputs": [],
   "source": [
    "a.shape"
   ]
  },
  {
   "cell_type": "code",
   "execution_count": null,
   "id": "65059e7a",
   "metadata": {},
   "outputs": [],
   "source": [
    "torch.sum(torch.square(gt - a))"
   ]
  },
  {
   "cell_type": "code",
   "execution_count": null,
   "id": "5a16fe5b",
   "metadata": {},
   "outputs": [],
   "source": []
  }
 ],
 "metadata": {
  "kernelspec": {
   "display_name": "Python 3 (ipykernel)",
   "language": "python",
   "name": "python3"
  },
  "language_info": {
   "codemirror_mode": {
    "name": "ipython",
    "version": 3
   },
   "file_extension": ".py",
   "mimetype": "text/x-python",
   "name": "python",
   "nbconvert_exporter": "python",
   "pygments_lexer": "ipython3",
   "version": "3.8.10"
  },
  "varInspector": {
   "cols": {
    "lenName": 16,
    "lenType": 16,
    "lenVar": 40
   },
   "kernels_config": {
    "python": {
     "delete_cmd_postfix": "",
     "delete_cmd_prefix": "del ",
     "library": "var_list.py",
     "varRefreshCmd": "print(var_dic_list())"
    },
    "r": {
     "delete_cmd_postfix": ") ",
     "delete_cmd_prefix": "rm(",
     "library": "var_list.r",
     "varRefreshCmd": "cat(var_dic_list()) "
    }
   },
   "types_to_exclude": [
    "module",
    "function",
    "builtin_function_or_method",
    "instance",
    "_Feature"
   ],
   "window_display": false
  }
 },
 "nbformat": 4,
 "nbformat_minor": 5
}
