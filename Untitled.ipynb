{
 "cells": [
  {
   "cell_type": "code",
   "execution_count": 29,
   "id": "f8b19521",
   "metadata": {},
   "outputs": [
    {
     "name": "stderr",
     "output_type": "stream",
     "text": [
      "/home/thishen/.local/lib/python3.8/site-packages/skimage/io/manage_plugins.py:23: UserWarning: Your installed pillow version is < 7.1.0. Several security issues (CVE-2020-11538, CVE-2020-10379, CVE-2020-10994, CVE-2020-10177) have been fixed in pillow 7.1.0 or higher. We recommend to upgrade this library.\n",
      "  from .collection import imread_collection_wrapper\n"
     ]
    }
   ],
   "source": [
    "import torch.nn as nn\n",
    "import torch\n",
    "import os\n",
    "from torchvision import models, datasets, transforms\n",
    "import skimage.io as io\n",
    "import cv2\n"
   ]
  },
  {
   "cell_type": "code",
   "execution_count": 49,
   "id": "12737a0e",
   "metadata": {},
   "outputs": [],
   "source": [
    "def read_data(image_name,root_X, root_GT):\n",
    "    img_path = root_X + \"/\" + image_name\n",
    "    image = io.imread(img_path)\n",
    "    gt_path = root_GT + f\"/GT_{image_name[:-3]}mat\"\n",
    "    gt = scipy.io.loadmat(gt_path)\n",
    "    \n",
    "    return image, gt\n",
    "    "
   ]
  },
  {
   "cell_type": "code",
   "execution_count": 50,
   "id": "1b432b69",
   "metadata": {},
   "outputs": [],
   "source": [
    "class CDEDataset:\n",
    "    def __init__(self,im_list,root_X,root_y, transform = None):\n",
    "        self.root_X = root_X\n",
    "        self.root_y = root_y\n",
    "        self.im_list= im_list\n",
    "        self.transform = transform\n",
    "    \n",
    "    def __len__(self):\n",
    "        return len(self.root_X)#check if right len\n",
    "    \n",
    "    def __getitem__(self,index):\n",
    "        image,gt = read_data(self.im_list[index], self.root_X, self.root_y)\n",
    "        \n",
    "        if self.transform:\n",
    "            image = self.transform(image)\n",
    "        \n",
    "        return image, gt\n",
    "    \n",
    "    "
   ]
  },
  {
   "cell_type": "code",
   "execution_count": 51,
   "id": "2fe6dc46",
   "metadata": {},
   "outputs": [
    {
     "data": {
      "text/plain": [
       "[10]"
      ]
     },
     "execution_count": 51,
     "metadata": {},
     "output_type": "execute_result"
    }
   ],
   "source": [
    "[10]"
   ]
  },
  {
   "cell_type": "code",
   "execution_count": 52,
   "id": "c09df609",
   "metadata": {},
   "outputs": [],
   "source": [
    "root_ims = 'ShanghaiTech/ShanghaiTech/part_A/train_data/images'\n",
    "root_ann = 'ShanghaiTech/ShanghaiTech/part_A/train_data/ground-truth'\n",
    "im_list = os.listdir(root_ims)\n",
    "train = CDEDataset(im_list,root_ims,root_ann)"
   ]
  },
  {
   "cell_type": "code",
   "execution_count": 55,
   "id": "b631bb2a",
   "metadata": {},
   "outputs": [
    {
     "data": {
      "text/plain": [
       "(183, 464, 3)"
      ]
     },
     "execution_count": 55,
     "metadata": {},
     "output_type": "execute_result"
    }
   ],
   "source": [
    "train[1][0].shape"
   ]
  },
  {
   "cell_type": "code",
   "execution_count": 57,
   "id": "adf9b700",
   "metadata": {},
   "outputs": [
    {
     "data": {
      "text/plain": [
       "array([[[ 40,  41,  46],\n",
       "        [ 36,  37,  42],\n",
       "        [ 37,  38,  43],\n",
       "        ...,\n",
       "        [ 27,  27,  29],\n",
       "        [ 31,  31,  31],\n",
       "        [ 30,  30,  30]],\n",
       "\n",
       "       [[ 24,  25,  30],\n",
       "        [ 35,  36,  41],\n",
       "        [ 42,  43,  48],\n",
       "        ...,\n",
       "        [ 28,  28,  30],\n",
       "        [ 31,  31,  31],\n",
       "        [ 30,  30,  30]],\n",
       "\n",
       "       [[ 68,  67,  73],\n",
       "        [ 87,  86,  92],\n",
       "        [ 87,  86,  92],\n",
       "        ...,\n",
       "        [ 28,  28,  30],\n",
       "        [ 30,  30,  30],\n",
       "        [ 28,  28,  28]],\n",
       "\n",
       "       ...,\n",
       "\n",
       "       [[ 44,  30,  27],\n",
       "        [ 39,  28,  24],\n",
       "        [ 11,   1,   0],\n",
       "        ...,\n",
       "        [102, 106, 115],\n",
       "        [100, 103, 112],\n",
       "        [100, 103, 112]],\n",
       "\n",
       "       [[ 38,  25,  19],\n",
       "        [ 43,  32,  26],\n",
       "        [ 18,   9,   4],\n",
       "        ...,\n",
       "        [104, 108, 117],\n",
       "        [102, 105, 114],\n",
       "        [100, 103, 112]],\n",
       "\n",
       "       [[ 33,  20,  12],\n",
       "        [ 49,  38,  32],\n",
       "        [ 28,  19,  12],\n",
       "        ...,\n",
       "        [103, 106, 115],\n",
       "        [100, 103, 112],\n",
       "        [ 97, 100, 109]]], dtype=uint8)"
      ]
     },
     "execution_count": 57,
     "metadata": {},
     "output_type": "execute_result"
    }
   ],
   "source": [
    "train[1][0]"
   ]
  },
  {
   "cell_type": "code",
   "execution_count": null,
   "id": "f7680134",
   "metadata": {},
   "outputs": [],
   "source": []
  }
 ],
 "metadata": {
  "kernelspec": {
   "display_name": "Python 3 (ipykernel)",
   "language": "python",
   "name": "python3"
  },
  "language_info": {
   "codemirror_mode": {
    "name": "ipython",
    "version": 3
   },
   "file_extension": ".py",
   "mimetype": "text/x-python",
   "name": "python",
   "nbconvert_exporter": "python",
   "pygments_lexer": "ipython3",
   "version": "3.8.10"
  }
 },
 "nbformat": 4,
 "nbformat_minor": 5
}
