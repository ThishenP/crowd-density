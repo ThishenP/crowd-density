{
 "cells": [
  {
   "cell_type": "code",
   "execution_count": 1,
   "id": "c1f91800",
   "metadata": {
    "scrolled": true
   },
   "outputs": [
    {
     "data": {
      "text/plain": [
       "device(type='cuda', index=0)"
      ]
     },
     "execution_count": 1,
     "metadata": {},
     "output_type": "execute_result"
    }
   ],
   "source": [
    "import torch\n",
    "import os\n",
    "from dataset import CDEDataset\n",
    "from torchvision import transforms\n",
    "from torch.utils.data import DataLoader\n",
    "import time\n",
    "import numpy as np\n",
    "import matplotlib.pyplot as plt\n",
    "\n",
    "if torch.cuda.is_available(): \n",
    "    device = torch.device(\"cuda:0\")\n",
    "else:\n",
    "    device = torch.device(\"cpu\")\n",
    "device"
   ]
  },
  {
   "cell_type": "code",
   "execution_count": 2,
   "id": "d4a36e2f",
   "metadata": {},
   "outputs": [],
   "source": [
    "no_dilation_models = []\n",
    "for i in range(7):\n",
    "    no_dilation_models.append(torch.load(f\"Models/dilationNone/conv_{i+1}_800.pt\"))\n",
    "    \n",
    "dilation_2_models = []\n",
    "for i in range(8):\n",
    "    dilation_2_models.append(torch.load(f\"Models/dilation2/dil2_{i+1}_800.pt\"))\n",
    "    \n",
    "aspp_models = []\n",
    "for i in range(7):\n",
    "    aspp_models.append(torch.load(f\"Models/aspp/aspp_{i+1}_800.pt\"))"
   ]
  },
  {
   "cell_type": "code",
   "execution_count": 3,
   "id": "81ac6ca9",
   "metadata": {},
   "outputs": [],
   "source": [
    "root_ims = '../CDE_Data/ShanghaiTech/ShanghaiTech/part_A/test_data/images'\n",
    "root_ann = '../CDE_Data/ShanghaiTech/ShanghaiTech/part_A/test_data/density_gt'\n",
    "im_list = os.listdir(root_ims)\n",
    "test_SH_A = CDEDataset(im_list,root_ims,root_ann, transform  = transforms.Compose([\n",
    "                transforms.ToTensor(),\n",
    "                transforms.Normalize([0.485, 0.456, 0.406], [0.229, 0.224, 0.225])\n",
    "            ]), train =False)\n",
    "\n",
    "root_ims = '../CDE_Data/ShanghaiTech/ShanghaiTech/part_B/test_data/images'\n",
    "root_ann = '../CDE_Data/ShanghaiTech/ShanghaiTech/part_B/test_data/density_gt'\n",
    "im_list = os.listdir(root_ims)\n",
    "test_SH_B = CDEDataset(im_list,root_ims,root_ann, transform  = transforms.Compose([\n",
    "                transforms.ToTensor(),\n",
    "                transforms.Normalize([0.485, 0.456, 0.406], [0.229, 0.224, 0.225])\n",
    "            ]), train =False)\n",
    "\n",
    "root_ims = '../CDE_Data/UCF_CC_50/images'\n",
    "root_ann = '../CDE_Data/UCF_CC_50/density_gt'\n",
    "im_list = os.listdir(root_ims)\n",
    "test_UCF = CDEDataset(im_list,root_ims,root_ann, transform  = transforms.Compose([\n",
    "                transforms.ToTensor(),\n",
    "                transforms.Normalize([0.485, 0.456, 0.406], [0.229, 0.224, 0.225])\n",
    "            ]), train =False)"
   ]
  },
  {
   "cell_type": "code",
   "execution_count": 4,
   "id": "4dc040cd",
   "metadata": {},
   "outputs": [],
   "source": [
    "test_SH_A_dataloader = DataLoader(test_SH_A, batch_size=1, shuffle=True)\n",
    "test_SH_B_dataloader = DataLoader(test_SH_B, batch_size=1, shuffle=True)\n",
    "test_UCF_dataloader = DataLoader(test_UCF, batch_size=1, shuffle=True)\n",
    "\n",
    "test_dataloaders = [test_SH_A_dataloader, test_SH_B_dataloader, test_UCF_dataloader]"
   ]
  },
  {
   "cell_type": "code",
   "execution_count": 5,
   "id": "d875a887",
   "metadata": {},
   "outputs": [],
   "source": [
    "def evaluate(model,dataloaders):\n",
    "\n",
    "    maes = []\n",
    "    mses = []\n",
    "    for loader in dataloaders:\n",
    "        losses =[]\n",
    "\n",
    "        model.eval()\n",
    "        with torch.no_grad():    \n",
    "            for i, data in enumerate(loader, 0):\n",
    "                # evaluate the model on the test set\n",
    "                inputs, labels, true_count = data\n",
    "\n",
    "\n",
    "                inputs = inputs.to(device)\n",
    "                labels = labels.to(device)\n",
    "                outputs = model(inputs)\n",
    "\n",
    "                pred_count = np.sum(outputs[0][0].cpu().detach().numpy())\n",
    "                true_count = true_count.cpu().detach().numpy()\n",
    "\n",
    "                losses.append(pred_count - true_count)\n",
    "\n",
    "                #print(i, end = \" \")\n",
    "        mae = np.mean(np.abs(losses))\n",
    "        mse = np.sqrt(np.mean(np.square(losses)))\n",
    "        maes.append(mae)\n",
    "        mses.append(mse)\n",
    "        #print('.', end = \" \")\n",
    "    print('.', end = \" \")\n",
    "    return maes, mses\n",
    "        "
   ]
  },
  {
   "cell_type": "code",
   "execution_count": 6,
   "id": "ff16a32a",
   "metadata": {
    "scrolled": false
   },
   "outputs": [
    {
     "name": "stdout",
     "output_type": "stream",
     "text": [
      ". . . . . . . . . . . . . . . . . . . . . . "
     ]
    }
   ],
   "source": [
    "no_dil_maes = []\n",
    "no_dil_mses = []\n",
    "\n",
    "for model in no_dilation_models:\n",
    "    maes, mses = evaluate(model, test_dataloaders)\n",
    "    no_dil_maes.append(maes)\n",
    "    no_dil_mses.append(mses)\n",
    "    \n",
    "no_dil_maes = np.array(no_dil_maes)\n",
    "no_dil_mses = np.array(no_dil_maes)\n",
    "    \n",
    "dil_2_maes = []\n",
    "dil_2_mses = []\n",
    "\n",
    "for model in dilation_2_models:\n",
    "    maes, mses = evaluate(model, test_dataloaders)\n",
    "    dil_2_maes.append(maes)\n",
    "    dil_2_mses.append(mses)\n",
    "\n",
    "dil_2_maes = np.array(dil_2_maes)\n",
    "dil_2_mses = np.array(dil_2_mses)\n",
    "    \n",
    "aspp_maes = []\n",
    "aspp_mses = []\n",
    "\n",
    "for model in aspp_models:\n",
    "    maes, mses = evaluate(model, test_dataloaders)\n",
    "    aspp_maes.append(maes)\n",
    "    aspp_mses.append(mses)\n",
    "    \n",
    "aspp_maes = np.array(aspp_maes)\n",
    "aspp_mses = np.array(aspp_mses)   "
   ]
  },
  {
   "cell_type": "code",
   "execution_count": null,
   "id": "d858ad90",
   "metadata": {},
   "outputs": [],
   "source": [
    "#a_del = np.delete(dil_2_maes, 1, 0)"
   ]
  },
  {
   "cell_type": "code",
   "execution_count": 21,
   "id": "fcf9dab9",
   "metadata": {
    "scrolled": true
   },
   "outputs": [
    {
     "data": {
      "text/plain": [
       "array([[ 88.23288737,  36.18095882, 419.62091805],\n",
       "       [ 91.23257355,  67.71469892, 453.91828316],\n",
       "       [ 95.36237671,  31.81671648, 441.08863464],\n",
       "       [ 94.66300763,  23.85601317, 422.92858704],\n",
       "       [ 87.36677287,  73.52027857, 407.18373081],\n",
       "       [ 89.62513645,  33.93350226, 416.05687709],\n",
       "       [ 87.51879422,  20.61855792, 393.74503139]])"
      ]
     },
     "execution_count": 21,
     "metadata": {},
     "output_type": "execute_result"
    }
   ],
   "source": [
    "a_del # dil2"
   ]
  },
  {
   "cell_type": "code",
   "execution_count": 25,
   "id": "88460272",
   "metadata": {},
   "outputs": [
    {
     "data": {
      "text/plain": [
       "array([[ 84.75399132,  39.60754035, 434.74590115],\n",
       "       [ 81.01487336,  45.10191711, 436.6254443 ],\n",
       "       [ 75.72201699,  17.16089196, 419.44712254],\n",
       "       [ 80.49299112,  30.36238394, 440.64490158],\n",
       "       [ 82.840879  ,  20.95549761, 395.43338058],\n",
       "       [ 78.90594988,  27.25794749, 440.00708093],\n",
       "       [ 79.82569548,  17.32764392, 408.285135  ]])"
      ]
     },
     "execution_count": 25,
     "metadata": {},
     "output_type": "execute_result"
    }
   ],
   "source": [
    "aspp_maes"
   ]
  },
  {
   "cell_type": "code",
   "execution_count": 26,
   "id": "b216a78f",
   "metadata": {},
   "outputs": [
    {
     "data": {
      "text/plain": [
       "array([[ 88.23288737,  36.18095882, 419.62091805],\n",
       "       [         inf,          inf,          inf],\n",
       "       [ 91.23257355,  67.71469892, 453.91828316],\n",
       "       [ 95.36237671,  31.81671648, 441.08863464],\n",
       "       [ 94.66300763,  23.85601317, 422.92858704],\n",
       "       [ 87.36677287,  73.52027857, 407.18373081],\n",
       "       [ 89.62513645,  33.93350226, 416.05687709],\n",
       "       [ 87.51879422,  20.61855792, 393.74503139]])"
      ]
     },
     "execution_count": 26,
     "metadata": {},
     "output_type": "execute_result"
    }
   ],
   "source": [
    "no_dil_maes"
   ]
  },
  {
   "cell_type": "code",
   "execution_count": 22,
   "id": "41f713df",
   "metadata": {},
   "outputs": [
    {
     "data": {
      "text/plain": [
       "array([114.91376363,  51.91884804, 520.00009198])"
      ]
     },
     "execution_count": 22,
     "metadata": {},
     "output_type": "execute_result"
    }
   ],
   "source": [
    "np.mean(no_dil_maes, axis = 0)"
   ]
  },
  {
   "cell_type": "code",
   "execution_count": 23,
   "id": "46e5cee6",
   "metadata": {},
   "outputs": [
    {
     "data": {
      "text/plain": [
       "array([ 90.57164983,  41.09153231, 422.07743745])"
      ]
     },
     "execution_count": 23,
     "metadata": {},
     "output_type": "execute_result"
    }
   ],
   "source": [
    "np.mean(a_del, axis = 0)"
   ]
  },
  {
   "cell_type": "code",
   "execution_count": 24,
   "id": "9fe3dac4",
   "metadata": {},
   "outputs": [
    {
     "data": {
      "text/plain": [
       "array([ 80.50805673,  28.2534032 , 425.02699515])"
      ]
     },
     "execution_count": 24,
     "metadata": {},
     "output_type": "execute_result"
    }
   ],
   "source": [
    "np.mean(aspp_maes, axis = 0)"
   ]
  },
  {
   "cell_type": "code",
   "execution_count": 34,
   "id": "8f60686b",
   "metadata": {},
   "outputs": [
    {
     "data": {
      "text/plain": [
       "array([ 90.76501886,  20.39981904, 426.25853104])"
      ]
     },
     "execution_count": 34,
     "metadata": {},
     "output_type": "execute_result"
    }
   ],
   "source": [
    "np.min(no_dil_maes, axis = 0)"
   ]
  },
  {
   "cell_type": "code",
   "execution_count": 35,
   "id": "aca83103",
   "metadata": {},
   "outputs": [
    {
     "data": {
      "text/plain": [
       "array([ 87.36677287,  20.61855792, 393.74503139])"
      ]
     },
     "execution_count": 35,
     "metadata": {},
     "output_type": "execute_result"
    }
   ],
   "source": [
    "np.min(a_del, axis = 0)"
   ]
  },
  {
   "cell_type": "code",
   "execution_count": 36,
   "id": "22e26ccd",
   "metadata": {},
   "outputs": [
    {
     "data": {
      "text/plain": [
       "array([ 75.72201699,  17.16089196, 395.43338058])"
      ]
     },
     "execution_count": 36,
     "metadata": {},
     "output_type": "execute_result"
    }
   ],
   "source": [
    "np.min(aspp_maes, axis = 0)"
   ]
  },
  {
   "cell_type": "code",
   "execution_count": 9,
   "id": "cb61dd2c",
   "metadata": {},
   "outputs": [
    {
     "ename": "NameError",
     "evalue": "name 'modeltest' is not defined",
     "output_type": "error",
     "traceback": [
      "\u001b[1;31m---------------------------------------------------------------------------\u001b[0m",
      "\u001b[1;31mNameError\u001b[0m                                 Traceback (most recent call last)",
      "\u001b[1;32m<ipython-input-9-d4cbfe415d66>\u001b[0m in \u001b[0;36m<module>\u001b[1;34m\u001b[0m\n\u001b[0;32m      4\u001b[0m \u001b[1;33m\u001b[0m\u001b[0m\n\u001b[0;32m      5\u001b[0m \u001b[0mstart\u001b[0m \u001b[1;33m=\u001b[0m \u001b[0mtime\u001b[0m\u001b[1;33m.\u001b[0m\u001b[0mtime\u001b[0m\u001b[1;33m(\u001b[0m\u001b[1;33m)\u001b[0m\u001b[1;33m\u001b[0m\u001b[1;33m\u001b[0m\u001b[0m\n\u001b[1;32m----> 6\u001b[1;33m \u001b[0ma\u001b[0m \u001b[1;33m=\u001b[0m \u001b[0mmodeltest\u001b[0m\u001b[1;33m(\u001b[0m\u001b[0mim\u001b[0m\u001b[1;33m)\u001b[0m\u001b[1;33m\u001b[0m\u001b[1;33m\u001b[0m\u001b[0m\n\u001b[0m\u001b[0;32m      7\u001b[0m \u001b[1;33m\u001b[0m\u001b[0m\n\u001b[0;32m      8\u001b[0m \u001b[0mprint\u001b[0m\u001b[1;33m(\u001b[0m\u001b[1;34m\"inference time:\"\u001b[0m\u001b[1;33m,\u001b[0m \u001b[0mtime\u001b[0m\u001b[1;33m.\u001b[0m\u001b[0mtime\u001b[0m\u001b[1;33m(\u001b[0m\u001b[1;33m)\u001b[0m \u001b[1;33m-\u001b[0m \u001b[0mstart\u001b[0m\u001b[1;33m)\u001b[0m\u001b[1;33m\u001b[0m\u001b[1;33m\u001b[0m\u001b[0m\n",
      "\u001b[1;31mNameError\u001b[0m: name 'modeltest' is not defined"
     ]
    }
   ],
   "source": [
    "ex = test_UCF[5]\n",
    "im = ex[0].unsqueeze(0).to(device)\n",
    "im.shape\n",
    "\n",
    "start = time.time()\n",
    "a = modeltest(im)\n",
    "\n",
    "print(\"inference time:\", time.time() - start)\n",
    "print(\"actual: \",ex[2])\n",
    "print(\"predicted: \",np.sum(a[0][0].cpu().detach().numpy()))\n",
    "\n",
    "fig, axs = plt.subplots(1, 3, figsize=(15,20))\n",
    "axs[0].imshow(ex[0][0].detach().numpy())\n",
    "axs[1].imshow(ex[1][0].detach().numpy())\n",
    "axs[2].imshow(a[0][0].cpu().detach().numpy())\n",
    "plt.show()"
   ]
  },
  {
   "cell_type": "code",
   "execution_count": null,
   "id": "d1fb810a",
   "metadata": {},
   "outputs": [],
   "source": []
  }
 ],
 "metadata": {
  "kernelspec": {
   "display_name": "Python 3",
   "language": "python",
   "name": "python3"
  },
  "language_info": {
   "codemirror_mode": {
    "name": "ipython",
    "version": 3
   },
   "file_extension": ".py",
   "mimetype": "text/x-python",
   "name": "python",
   "nbconvert_exporter": "python",
   "pygments_lexer": "ipython3",
   "version": "3.8.8"
  }
 },
 "nbformat": 4,
 "nbformat_minor": 5
}
